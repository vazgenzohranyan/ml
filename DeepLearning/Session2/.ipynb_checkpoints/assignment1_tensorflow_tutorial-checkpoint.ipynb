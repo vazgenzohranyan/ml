{
 "cells": [
  {
   "cell_type": "markdown",
   "metadata": {},
   "source": [
    "# MNIST master\n",
    "\n",
    "For a demo we shall solve the same digit recognition problem, but at a different scale\n",
    "* images are now 28x28\n",
    "* 10 different digits\n",
    "* 50k samples"
   ]
  },
  {
   "cell_type": "markdown",
   "metadata": {},
   "source": [
    "Before doing this homework, read some code examples written in tensorflow. There is a good repository with code examples: https://github.com/aymericdamien/TensorFlow-Examples. As we already know, we need many samples to learn :)"
   ]
  },
  {
   "cell_type": "code",
   "execution_count": 1,
   "metadata": {},
   "outputs": [
    {
     "name": "stderr",
     "output_type": "stream",
     "text": [
      "\n",
      "Bad key \"xtick.alignment\" on line 250 in\n",
      "/usr/share/matplotlib/mpl-data/stylelib/classic.mplstyle.\n",
      "You probably need to get an updated matplotlibrc file from\n",
      "http://github.com/matplotlib/matplotlib/blob/master/matplotlibrc.template\n",
      "or from the matplotlib source distribution\n",
      "\n",
      "Bad key \"ytick.alignment\" on line 268 in\n",
      "/usr/share/matplotlib/mpl-data/stylelib/classic.mplstyle.\n",
      "You probably need to get an updated matplotlibrc file from\n",
      "http://github.com/matplotlib/matplotlib/blob/master/matplotlibrc.template\n",
      "or from the matplotlib source distribution\n"
     ]
    }
   ],
   "source": [
    "import numpy as np\n",
    "import matplotlib.pyplot as plt\n",
    "%matplotlib inline"
   ]
  },
  {
   "cell_type": "code",
   "execution_count": 2,
   "metadata": {},
   "outputs": [],
   "source": [
    "import tensorflow as tf"
   ]
  },
  {
   "cell_type": "code",
   "execution_count": 3,
   "metadata": {},
   "outputs": [
    {
     "name": "stdout",
     "output_type": "stream",
     "text": [
      "(50000, 1, 28, 28) (50000,)\n"
     ]
    }
   ],
   "source": [
    "from mnist import load_dataset\n",
    "X_train,y_train,X_val,y_val,X_test,y_test = load_dataset()\n",
    "\n",
    "print(X_train.shape,y_train.shape)"
   ]
  },
  {
   "cell_type": "code",
   "execution_count": 4,
   "metadata": {},
   "outputs": [],
   "source": [
    "X_train = X_train.reshape(X_train.shape[0],784)\n",
    "X_val = X_val.reshape(X_val.shape[0],784)\n",
    "X_test = X_test.reshape(X_test.shape[0],784)"
   ]
  },
  {
   "cell_type": "code",
   "execution_count": null,
   "metadata": {},
   "outputs": [],
   "source": []
  },
  {
   "cell_type": "code",
   "execution_count": 5,
   "metadata": {},
   "outputs": [],
   "source": [
    "#defining placeholders for input and target\n",
    "input_X = tf.placeholder(tf.float32, shape=[None, 784], \n",
    "                         name=\"X\")\n",
    "target_y = tf.placeholder(tf.int32, shape=[None], \n",
    "                          name=\"target_Y_integer\")\n"
   ]
  },
  {
   "cell_type": "markdown",
   "metadata": {},
   "source": [
    "Defining network architecture"
   ]
  },
  {
   "cell_type": "code",
   "execution_count": 6,
   "metadata": {},
   "outputs": [],
   "source": [
    "x =tf.reshape(input_X, shape=[-1, 28, 28, 1],name='reshape_X')\n",
    "\n",
    "conv1 = tf.layers.conv2d(x, 32, 5, activation=None)\n",
    "batch1 = tf.layers.batch_normalization(conv1)\n",
    "act1 = tf.nn.relu(batch1) \n",
    "conv1 = tf.layers.max_pooling2d(act1, 2, 2)\n",
    "\n",
    "conv3 = tf.layers.conv2d(conv1, 64, 3, activation=None)\n",
    "batch2 = tf.layers.batch_normalization(conv3)\n",
    "act1 = tf.nn.relu(batch2) \n",
    "conv3 = tf.layers.max_pooling2d(act1, 2, 2)\n",
    "\n",
    "fc1 = tf.contrib.layers.flatten(conv3)\n",
    "\n",
    "fc1 = tf.layers.dense(fc1, 1024,activation=tf.nn.relu)\n",
    "\n",
    "out = tf.layers.dense(fc1, 10,activation=None)\n",
    "    \n",
    "l_out = tf.nn.softmax(out)\n",
    "\n",
    "y_predicted = tf.argmax(l_out, axis=-1)"
   ]
  },
  {
   "cell_type": "code",
   "execution_count": 7,
   "metadata": {},
   "outputs": [
    {
     "data": {
      "text/plain": [
       "[<tf.Variable 'conv2d/kernel:0' shape=(5, 5, 1, 32) dtype=float32_ref>,\n",
       " <tf.Variable 'conv2d/bias:0' shape=(32,) dtype=float32_ref>,\n",
       " <tf.Variable 'batch_normalization/gamma:0' shape=(32,) dtype=float32_ref>,\n",
       " <tf.Variable 'batch_normalization/beta:0' shape=(32,) dtype=float32_ref>,\n",
       " <tf.Variable 'conv2d_1/kernel:0' shape=(3, 3, 32, 64) dtype=float32_ref>,\n",
       " <tf.Variable 'conv2d_1/bias:0' shape=(64,) dtype=float32_ref>,\n",
       " <tf.Variable 'batch_normalization_1/gamma:0' shape=(64,) dtype=float32_ref>,\n",
       " <tf.Variable 'batch_normalization_1/beta:0' shape=(64,) dtype=float32_ref>,\n",
       " <tf.Variable 'dense/kernel:0' shape=(1600, 1024) dtype=float32_ref>,\n",
       " <tf.Variable 'dense/bias:0' shape=(1024,) dtype=float32_ref>,\n",
       " <tf.Variable 'dense_1/kernel:0' shape=(1024, 10) dtype=float32_ref>,\n",
       " <tf.Variable 'dense_1/bias:0' shape=(10,) dtype=float32_ref>]"
      ]
     },
     "execution_count": 7,
     "metadata": {},
     "output_type": "execute_result"
    }
   ],
   "source": [
    "weights = tf.trainable_variables()\n",
    "weights"
   ]
  },
  {
   "cell_type": "markdown",
   "metadata": {},
   "source": [
    "### Than you could simply\n",
    "* define loss function manually\n",
    "* compute error gradient over all weights\n",
    "* define updates\n",
    "* But that's a whole lot of work and life's short\n",
    "  * not to mention life's too short to wait for SGD to converge\n",
    "\n",
    "Instead, we shall use Tensorflow builtins"
   ]
  },
  {
   "cell_type": "code",
   "execution_count": 8,
   "metadata": {},
   "outputs": [],
   "source": [
    "# Mean categorical crossentropy as a loss function\n",
    "# - similar to logistic loss but for multiclass targets\n",
    "loss = tf.reduce_mean(tf.nn.sparse_softmax_cross_entropy_with_logits(\n",
    "    labels=target_y, logits=out, name=\"softmax_loss\"))"
   ]
  },
  {
   "cell_type": "code",
   "execution_count": 9,
   "metadata": {},
   "outputs": [
    {
     "data": {
      "text/plain": [
       "[<tf.Variable 'accuracy/total:0' shape=() dtype=float32_ref>,\n",
       " <tf.Variable 'accuracy/count:0' shape=() dtype=float32_ref>]"
      ]
     },
     "execution_count": 9,
     "metadata": {},
     "output_type": "execute_result"
    }
   ],
   "source": [
    "accuracy, update_accuracy = tf.metrics.accuracy(target_y, y_predicted)\n",
    "tf.local_variables()"
   ]
  },
  {
   "cell_type": "code",
   "execution_count": 10,
   "metadata": {},
   "outputs": [],
   "source": [
    "optimzer = tf.train.AdamOptimizer(learning_rate=0.005)\n",
    "train_step = optimzer.minimize(loss)"
   ]
  },
  {
   "cell_type": "markdown",
   "metadata": {},
   "source": [
    "### That's all, now let's train it!\n",
    "* We got a lot of data, so it's recommended that you use SGD\n",
    "* So let's implement a function that splits the training sample into minibatches"
   ]
  },
  {
   "cell_type": "code",
   "execution_count": 11,
   "metadata": {},
   "outputs": [],
   "source": [
    "# An auxilary function that returns mini-batches for neural network training\n",
    "\n",
    "#Parameters\n",
    "# inputs - a tensor of images with shape (many, 1, 28, 28), e.g. X_train\n",
    "# outputs - a vector of answers for corresponding images e.g. Y_train\n",
    "#batch_size - a single number - the intended size of each batches\n",
    "\n",
    "def iterate_minibatches(inputs, targets, batchsize):\n",
    "    assert len(inputs) == len(targets)\n",
    "    indices = np.arange(len(inputs))\n",
    "    np.random.shuffle(indices)\n",
    "    for start_idx in range(0, len(inputs) - batchsize + 1, batchsize):\n",
    "        excerpt = indices[start_idx:start_idx + batchsize]\n",
    "        yield inputs[excerpt], targets[excerpt]"
   ]
  },
  {
   "cell_type": "markdown",
   "metadata": {},
   "source": [
    "# Training loop"
   ]
  },
  {
   "cell_type": "markdown",
   "metadata": {},
   "source": [
    "Model saver.\n",
    "<br>\n",
    "See more:\n",
    "http://cv-tricks.com/tensorflow-tutorial/save-restore-tensorflow-models-quick-complete-tutorial/"
   ]
  },
  {
   "cell_type": "code",
   "execution_count": 12,
   "metadata": {},
   "outputs": [],
   "source": [
    "model_path = \"./checkpoints/model.ckpt\"\n",
    "saver = tf.train.Saver(max_to_keep=3)"
   ]
  },
  {
   "cell_type": "code",
   "execution_count": 14,
   "metadata": {
    "scrolled": true
   },
   "outputs": [
    {
     "name": "stdout",
     "output_type": "stream",
     "text": [
      "Epoch 1 of 50 took 98.251s\n",
      "  training loss (in-iteration):\t\t0.228257\n",
      "  train accuracy:\t\t92.68 %\n",
      "  validation accuracy:\t\t98.13 %\n",
      "  Model saved in file: ./checkpoints/model.ckpt-0\n",
      "Epoch 2 of 50 took 93.651s\n",
      "  training loss (in-iteration):\t\t0.042535\n",
      "  train accuracy:\t\t98.68 %\n",
      "  validation accuracy:\t\t98.71 %\n",
      "  Model saved in file: ./checkpoints/model.ckpt-1\n",
      "Epoch 3 of 50 took 98.135s\n",
      "  training loss (in-iteration):\t\t0.029335\n",
      "  train accuracy:\t\t99.06 %\n",
      "  validation accuracy:\t\t98.79 %\n",
      "  Model saved in file: ./checkpoints/model.ckpt-2\n",
      "Epoch 4 of 50 took 102.362s\n",
      "  training loss (in-iteration):\t\t0.023118\n",
      "  train accuracy:\t\t99.26 %\n",
      "  validation accuracy:\t\t99.15 %\n",
      "  Model saved in file: ./checkpoints/model.ckpt-3\n",
      "Epoch 5 of 50 took 98.847s\n",
      "  training loss (in-iteration):\t\t0.014261\n",
      "  train accuracy:\t\t99.55 %\n",
      "  validation accuracy:\t\t98.97 %\n",
      "  Model saved in file: ./checkpoints/model.ckpt-4\n",
      "Epoch 6 of 50 took 102.934s\n",
      "  training loss (in-iteration):\t\t0.012703\n",
      "  train accuracy:\t\t99.58 %\n",
      "  validation accuracy:\t\t99.03 %\n",
      "  Model saved in file: ./checkpoints/model.ckpt-5\n",
      "Epoch 7 of 50 took 108.702s\n",
      "  training loss (in-iteration):\t\t0.012601\n",
      "  train accuracy:\t\t99.60 %\n",
      "  validation accuracy:\t\t99.14 %\n",
      "  Model saved in file: ./checkpoints/model.ckpt-6\n",
      "Epoch 8 of 50 took 98.888s\n",
      "  training loss (in-iteration):\t\t0.008625\n",
      "  train accuracy:\t\t99.71 %\n",
      "  validation accuracy:\t\t98.77 %\n",
      "  Model saved in file: ./checkpoints/model.ckpt-7\n",
      "Epoch 9 of 50 took 100.729s\n",
      "  training loss (in-iteration):\t\t0.012112\n",
      "  train accuracy:\t\t99.59 %\n",
      "  validation accuracy:\t\t99.01 %\n",
      "  Model saved in file: ./checkpoints/model.ckpt-8\n",
      "Epoch 10 of 50 took 95.383s\n",
      "  training loss (in-iteration):\t\t0.009223\n",
      "  train accuracy:\t\t99.67 %\n",
      "  validation accuracy:\t\t99.03 %\n",
      "  Model saved in file: ./checkpoints/model.ckpt-9\n",
      "Epoch 11 of 50 took 95.518s\n",
      "  training loss (in-iteration):\t\t0.008143\n",
      "  train accuracy:\t\t99.74 %\n",
      "  validation accuracy:\t\t98.88 %\n",
      "  Model saved in file: ./checkpoints/model.ckpt-10\n",
      "Epoch 12 of 50 took 95.889s\n",
      "  training loss (in-iteration):\t\t0.008628\n",
      "  train accuracy:\t\t99.71 %\n",
      "  validation accuracy:\t\t98.93 %\n",
      "  Model saved in file: ./checkpoints/model.ckpt-11\n",
      "Epoch 13 of 50 took 95.022s\n",
      "  training loss (in-iteration):\t\t0.009020\n",
      "  train accuracy:\t\t99.70 %\n",
      "  validation accuracy:\t\t99.20 %\n",
      "  Model saved in file: ./checkpoints/model.ckpt-12\n",
      "Epoch 14 of 50 took 105.039s\n",
      "  training loss (in-iteration):\t\t0.004848\n",
      "  train accuracy:\t\t99.85 %\n",
      "  validation accuracy:\t\t99.10 %\n",
      "  Model saved in file: ./checkpoints/model.ckpt-13\n",
      "Epoch 15 of 50 took 101.132s\n",
      "  training loss (in-iteration):\t\t0.009156\n",
      "  train accuracy:\t\t99.72 %\n",
      "  validation accuracy:\t\t98.96 %\n",
      "  Model saved in file: ./checkpoints/model.ckpt-14\n",
      "Epoch 16 of 50 took 95.986s\n",
      "  training loss (in-iteration):\t\t0.006818\n",
      "  train accuracy:\t\t99.81 %\n",
      "  validation accuracy:\t\t99.06 %\n",
      "  Model saved in file: ./checkpoints/model.ckpt-15\n",
      "Epoch 17 of 50 took 88.971s\n",
      "  training loss (in-iteration):\t\t0.005661\n",
      "  train accuracy:\t\t99.81 %\n",
      "  validation accuracy:\t\t99.20 %\n",
      "  Model saved in file: ./checkpoints/model.ckpt-16\n",
      "Epoch 18 of 50 took 101.923s\n",
      "  training loss (in-iteration):\t\t0.004058\n",
      "  train accuracy:\t\t99.89 %\n",
      "  validation accuracy:\t\t98.98 %\n",
      "  Model saved in file: ./checkpoints/model.ckpt-17\n",
      "Epoch 19 of 50 took 90.301s\n",
      "  training loss (in-iteration):\t\t0.002275\n",
      "  train accuracy:\t\t99.92 %\n",
      "  validation accuracy:\t\t99.13 %\n",
      "  Model saved in file: ./checkpoints/model.ckpt-18\n",
      "Epoch 20 of 50 took 99.475s\n",
      "  training loss (in-iteration):\t\t0.007699\n",
      "  train accuracy:\t\t99.79 %\n",
      "  validation accuracy:\t\t99.05 %\n",
      "  Model saved in file: ./checkpoints/model.ckpt-19\n",
      "Epoch 21 of 50 took 92.783s\n",
      "  training loss (in-iteration):\t\t0.006803\n",
      "  train accuracy:\t\t99.80 %\n",
      "  validation accuracy:\t\t99.07 %\n",
      "  Model saved in file: ./checkpoints/model.ckpt-20\n",
      "Epoch 22 of 50 took 95.236s\n",
      "  training loss (in-iteration):\t\t0.004073\n",
      "  train accuracy:\t\t99.87 %\n",
      "  validation accuracy:\t\t98.87 %\n",
      "  Model saved in file: ./checkpoints/model.ckpt-21\n",
      "Epoch 23 of 50 took 93.526s\n",
      "  training loss (in-iteration):\t\t0.008005\n",
      "  train accuracy:\t\t99.80 %\n",
      "  validation accuracy:\t\t98.91 %\n",
      "  Model saved in file: ./checkpoints/model.ckpt-22\n",
      "Epoch 24 of 50 took 96.721s\n",
      "  training loss (in-iteration):\t\t0.008383\n",
      "  train accuracy:\t\t99.75 %\n",
      "  validation accuracy:\t\t98.97 %\n",
      "  Model saved in file: ./checkpoints/model.ckpt-23\n",
      "Epoch 25 of 50 took 93.547s\n",
      "  training loss (in-iteration):\t\t0.004878\n",
      "  train accuracy:\t\t99.87 %\n",
      "  validation accuracy:\t\t99.12 %\n",
      "  Model saved in file: ./checkpoints/model.ckpt-24\n",
      "Epoch 26 of 50 took 93.417s\n",
      "  training loss (in-iteration):\t\t0.002547\n",
      "  train accuracy:\t\t99.92 %\n",
      "  validation accuracy:\t\t99.18 %\n",
      "  Model saved in file: ./checkpoints/model.ckpt-25\n",
      "Epoch 27 of 50 took 92.974s\n",
      "  training loss (in-iteration):\t\t0.002021\n",
      "  train accuracy:\t\t99.94 %\n",
      "  validation accuracy:\t\t99.14 %\n",
      "  Model saved in file: ./checkpoints/model.ckpt-26\n",
      "Epoch 28 of 50 took 93.644s\n",
      "  training loss (in-iteration):\t\t0.006989\n",
      "  train accuracy:\t\t99.78 %\n",
      "  validation accuracy:\t\t99.06 %\n",
      "  Model saved in file: ./checkpoints/model.ckpt-27\n",
      "Epoch 29 of 50 took 95.202s\n",
      "  training loss (in-iteration):\t\t0.005935\n",
      "  train accuracy:\t\t99.83 %\n",
      "  validation accuracy:\t\t98.92 %\n",
      "  Model saved in file: ./checkpoints/model.ckpt-28\n",
      "Epoch 30 of 50 took 96.418s\n",
      "  training loss (in-iteration):\t\t0.003900\n",
      "  train accuracy:\t\t99.89 %\n",
      "  validation accuracy:\t\t99.02 %\n",
      "  Model saved in file: ./checkpoints/model.ckpt-29\n",
      "Epoch 31 of 50 took 102.649s\n",
      "  training loss (in-iteration):\t\t0.006151\n",
      "  train accuracy:\t\t99.82 %\n",
      "  validation accuracy:\t\t99.04 %\n",
      "  Model saved in file: ./checkpoints/model.ckpt-30\n",
      "Epoch 32 of 50 took 99.549s\n",
      "  training loss (in-iteration):\t\t0.005236\n",
      "  train accuracy:\t\t99.86 %\n",
      "  validation accuracy:\t\t99.12 %\n",
      "  Model saved in file: ./checkpoints/model.ckpt-31\n",
      "Epoch 33 of 50 took 81.694s\n",
      "  training loss (in-iteration):\t\t0.003282\n",
      "  train accuracy:\t\t99.92 %\n",
      "  validation accuracy:\t\t99.10 %\n",
      "  Model saved in file: ./checkpoints/model.ckpt-32\n",
      "Epoch 34 of 50 took 82.005s\n",
      "  training loss (in-iteration):\t\t0.008286\n",
      "  train accuracy:\t\t99.79 %\n",
      "  validation accuracy:\t\t99.08 %\n",
      "  Model saved in file: ./checkpoints/model.ckpt-33\n",
      "Epoch 35 of 50 took 84.249s\n",
      "  training loss (in-iteration):\t\t0.007821\n",
      "  train accuracy:\t\t99.78 %\n",
      "  validation accuracy:\t\t98.73 %\n",
      "  Model saved in file: ./checkpoints/model.ckpt-34\n",
      "Epoch 36 of 50 took 81.670s\n",
      "  training loss (in-iteration):\t\t0.008878\n",
      "  train accuracy:\t\t99.78 %\n",
      "  validation accuracy:\t\t99.04 %\n",
      "  Model saved in file: ./checkpoints/model.ckpt-35\n",
      "Epoch 37 of 50 took 81.460s\n",
      "  training loss (in-iteration):\t\t0.003098\n",
      "  train accuracy:\t\t99.92 %\n",
      "  validation accuracy:\t\t99.11 %\n",
      "  Model saved in file: ./checkpoints/model.ckpt-36\n",
      "Epoch 38 of 50 took 81.879s\n",
      "  training loss (in-iteration):\t\t0.002240\n",
      "  train accuracy:\t\t99.93 %\n",
      "  validation accuracy:\t\t99.25 %\n",
      "  Model saved in file: ./checkpoints/model.ckpt-37\n",
      "Epoch 39 of 50 took 81.616s\n",
      "  training loss (in-iteration):\t\t0.001140\n",
      "  train accuracy:\t\t99.97 %\n",
      "  validation accuracy:\t\t99.23 %\n",
      "  Model saved in file: ./checkpoints/model.ckpt-38\n",
      "Epoch 40 of 50 took 81.609s\n",
      "  training loss (in-iteration):\t\t0.000286\n",
      "  train accuracy:\t\t99.99 %\n",
      "  validation accuracy:\t\t99.18 %\n",
      "  Model saved in file: ./checkpoints/model.ckpt-39\n",
      "Epoch 41 of 50 took 81.401s\n",
      "  training loss (in-iteration):\t\t0.000367\n",
      "  train accuracy:\t\t99.98 %\n",
      "  validation accuracy:\t\t99.18 %\n",
      "  Model saved in file: ./checkpoints/model.ckpt-40\n",
      "Epoch 42 of 50 took 81.111s\n",
      "  training loss (in-iteration):\t\t0.000775\n",
      "  train accuracy:\t\t99.99 %\n",
      "  validation accuracy:\t\t99.25 %\n",
      "  Model saved in file: ./checkpoints/model.ckpt-41\n",
      "Epoch 43 of 50 took 80.936s\n",
      "  training loss (in-iteration):\t\t0.000247\n",
      "  train accuracy:\t\t100.00 %\n",
      "  validation accuracy:\t\t99.26 %\n",
      "  Model saved in file: ./checkpoints/model.ckpt-42\n",
      "Epoch 44 of 50 took 80.829s\n",
      "  training loss (in-iteration):\t\t0.000494\n",
      "  train accuracy:\t\t99.99 %\n",
      "  validation accuracy:\t\t99.14 %\n",
      "  Model saved in file: ./checkpoints/model.ckpt-43\n",
      "Epoch 45 of 50 took 81.804s\n",
      "  training loss (in-iteration):\t\t0.002198\n",
      "  train accuracy:\t\t99.94 %\n",
      "  validation accuracy:\t\t99.16 %\n",
      "  Model saved in file: ./checkpoints/model.ckpt-44\n",
      "Epoch 46 of 50 took 82.291s\n",
      "  training loss (in-iteration):\t\t0.017908\n",
      "  train accuracy:\t\t99.64 %\n",
      "  validation accuracy:\t\t98.67 %\n",
      "  Model saved in file: ./checkpoints/model.ckpt-45\n"
     ]
    },
    {
     "name": "stdout",
     "output_type": "stream",
     "text": [
      "Epoch 47 of 50 took 81.363s\n",
      "  training loss (in-iteration):\t\t0.007834\n",
      "  train accuracy:\t\t99.80 %\n",
      "  validation accuracy:\t\t99.05 %\n",
      "  Model saved in file: ./checkpoints/model.ckpt-46\n",
      "Epoch 48 of 50 took 82.015s\n",
      "  training loss (in-iteration):\t\t0.003768\n",
      "  train accuracy:\t\t99.88 %\n",
      "  validation accuracy:\t\t99.16 %\n",
      "  Model saved in file: ./checkpoints/model.ckpt-47\n",
      "Epoch 49 of 50 took 81.599s\n",
      "  training loss (in-iteration):\t\t0.005332\n",
      "  train accuracy:\t\t99.88 %\n",
      "  validation accuracy:\t\t99.01 %\n",
      "  Model saved in file: ./checkpoints/model.ckpt-48\n",
      "Epoch 50 of 50 took 81.062s\n",
      "  training loss (in-iteration):\t\t0.002057\n",
      "  train accuracy:\t\t99.95 %\n",
      "  validation accuracy:\t\t99.24 %\n",
      "  Model saved in file: ./checkpoints/model.ckpt-49\n"
     ]
    }
   ],
   "source": [
    "import time\n",
    "\n",
    "num_epochs = 50 # amount of passes through the data\n",
    "\n",
    "batch_size = 500 # number of samples processed at each function call\n",
    "\n",
    "with tf.Session() as sess:\n",
    "    # initialize global wariables\n",
    "    sess.run(tf.global_variables_initializer())\n",
    "    \n",
    "    for epoch in range(num_epochs):\n",
    "        # In each epoch, we do a full pass over the training data:\n",
    "        train_err = 0\n",
    "        train_batches = 0\n",
    "        start_time = time.time()\n",
    "\n",
    "        sess.run(tf.local_variables_initializer())\n",
    "        for batch in iterate_minibatches(X_train, y_train,batch_size):\n",
    "            inputs, targets = batch\n",
    "\n",
    "            _, train_err_batch, _ = sess.run(\n",
    "                [train_step, loss, update_accuracy], \n",
    "                feed_dict={input_X: inputs, target_y:targets}\n",
    "            )\n",
    "            train_err += train_err_batch\n",
    "            train_batches += 1\n",
    "        train_acc = sess.run(accuracy)\n",
    "\n",
    "        # And a full pass over the validation data:\n",
    "        sess.run(tf.local_variables_initializer())\n",
    "        for batch in iterate_minibatches(X_val, y_val, batch_size):\n",
    "            inputs, targets = batch\n",
    "            sess.run(update_accuracy, feed_dict={input_X: inputs, \n",
    "                                                 target_y:targets})\n",
    "        val_acc = sess.run(accuracy)\n",
    "\n",
    "\n",
    "        # Then we print the results for this epoch:\n",
    "        print(\"Epoch {} of {} took {:.3f}s\".format(\n",
    "            epoch + 1, num_epochs, time.time() - start_time))\n",
    "\n",
    "        print(\"  training loss (in-iteration):\\t\\t{:.6f}\".format(train_err / train_batches))\n",
    "        print(\"  train accuracy:\\t\\t{:.2f} %\".format(\n",
    "            train_acc * 100))\n",
    "        print(\"  validation accuracy:\\t\\t{:.2f} %\".format(\n",
    "            val_acc * 100))\n",
    "        \n",
    "        # save model\n",
    "        save_path = saver.save(sess, model_path, global_step=epoch)\n",
    "        print(\"  Model saved in file: %s\" % save_path)"
   ]
  },
  {
   "cell_type": "markdown",
   "metadata": {},
   "source": [
    "Now we can restore saved parameters:"
   ]
  },
  {
   "cell_type": "code",
   "execution_count": 16,
   "metadata": {},
   "outputs": [
    {
     "name": "stdout",
     "output_type": "stream",
     "text": [
      "INFO:tensorflow:Restoring parameters from ./checkpoints/model.ckpt-49\n",
      "Model restored from file: ./checkpoints/model.ckpt-49\n",
      "Final results:\n",
      "  test accuracy:\t\t99.21 %\n",
      "We need more magic!\n"
     ]
    }
   ],
   "source": [
    "with tf.Session() as sess:\n",
    "    sess.run(tf.global_variables_initializer())\n",
    "    load_path = saver.restore(sess, saver.last_checkpoints[-1])\n",
    "    print(\"Model restored from file: %s\" % save_path)\n",
    "    \n",
    "    sess.run(tf.local_variables_initializer())\n",
    "    for batch in iterate_minibatches(X_test, y_test, 500):\n",
    "        inputs, targets = batch\n",
    "        sess.run(update_accuracy, feed_dict={input_X: inputs, \n",
    "                                                   target_y:targets})\n",
    "    test_acc = sess.run(accuracy)\n",
    "    print(\"Final results:\")\n",
    "    print(\"  test accuracy:\\t\\t{:.2f} %\".format(\n",
    "        test_acc* 100))\n",
    "\n",
    "    if test_acc * 100 > 99.5:\n",
    "        print (\"Achievement unlocked: 80lvl Warlock!\")\n",
    "    else:\n",
    "        print (\"We need more magic!\")"
   ]
  },
  {
   "cell_type": "markdown",
   "metadata": {
    "collapsed": true
   },
   "source": [
    "# Now improve it!\n",
    "\n",
    "* Moar layers!\n",
    "* Moar units!\n",
    "* Different nonlinearities!"
   ]
  }
 ],
 "metadata": {
  "kernelspec": {
   "display_name": "Python 3",
   "language": "python",
   "name": "python3"
  },
  "language_info": {
   "codemirror_mode": {
    "name": "ipython",
    "version": 3
   },
   "file_extension": ".py",
   "mimetype": "text/x-python",
   "name": "python",
   "nbconvert_exporter": "python",
   "pygments_lexer": "ipython3",
   "version": "3.6.6"
  }
 },
 "nbformat": 4,
 "nbformat_minor": 1
}
