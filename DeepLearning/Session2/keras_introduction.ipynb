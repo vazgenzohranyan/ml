{
 "cells": [
  {
   "cell_type": "markdown",
   "metadata": {},
   "source": [
    "# [Keras](https://keras.io/)"
   ]
  },
  {
   "cell_type": "code",
   "execution_count": null,
   "metadata": {},
   "outputs": [],
   "source": [
    "import keras"
   ]
  },
  {
   "cell_type": "markdown",
   "metadata": {},
   "source": [
    "### Layers"
   ]
  },
  {
   "cell_type": "markdown",
   "metadata": {},
   "source": [
    "`keras.layers.*`"
   ]
  },
  {
   "cell_type": "code",
   "execution_count": 2,
   "metadata": {},
   "outputs": [
    {
     "name": "stdout",
     "output_type": "stream",
     "text": [
      "Activation\n",
      "ActivityRegularization\n",
      "Add\n",
      "AlphaDropout\n",
      "AtrousConv1D\n",
      "AtrousConv2D\n",
      "AtrousConvolution1D\n",
      "AtrousConvolution2D\n",
      "Average\n",
      "AveragePooling1D\n",
      "AveragePooling2D\n",
      "AveragePooling3D\n",
      "AvgPool1D\n",
      "AvgPool2D\n",
      "AvgPool3D\n",
      "BatchNormalization\n",
      "Bidirectional\n",
      "Concatenate\n",
      "Conv1D\n",
      "Conv2D\n",
      "Conv2DTranspose\n",
      "Conv3D\n",
      "Conv3DTranspose\n",
      "ConvLSTM2D\n",
      "ConvLSTM2DCell\n",
      "ConvRNN2D\n",
      "ConvRecurrent2D\n",
      "Convolution1D\n",
      "Convolution2D\n",
      "Convolution2DTranspose\n",
      "Convolution3D\n",
      "Cropping1D\n",
      "Cropping2D\n",
      "Cropping3D\n",
      "CuDNNGRU\n",
      "CuDNNLSTM\n",
      "Deconv2D\n",
      "Deconv3D\n",
      "Deconvolution2D\n",
      "Deconvolution3D\n",
      "Dense\n",
      "DepthwiseConv2D\n",
      "Dot\n",
      "Dropout\n",
      "ELU\n",
      "Embedding\n",
      "Flatten\n",
      "GRU\n",
      "GRUCell\n",
      "GaussianDropout\n",
      "GaussianNoise\n",
      "GlobalAveragePooling1D\n",
      "GlobalAveragePooling2D\n",
      "GlobalAveragePooling3D\n",
      "GlobalAvgPool1D\n",
      "GlobalAvgPool2D\n",
      "GlobalAvgPool3D\n",
      "GlobalMaxPool1D\n",
      "GlobalMaxPool2D\n",
      "GlobalMaxPool3D\n",
      "GlobalMaxPooling1D\n",
      "GlobalMaxPooling2D\n",
      "GlobalMaxPooling3D\n",
      "Highway\n",
      "Input\n",
      "InputLayer\n",
      "InputSpec\n",
      "K\n",
      "LSTM\n",
      "LSTMCell\n",
      "Lambda\n",
      "Layer\n",
      "LeakyReLU\n",
      "LocallyConnected1D\n",
      "LocallyConnected2D\n",
      "Masking\n",
      "MaxPool1D\n",
      "MaxPool2D\n",
      "MaxPool3D\n",
      "MaxPooling1D\n",
      "MaxPooling2D\n",
      "MaxPooling3D\n",
      "Maximum\n",
      "MaxoutDense\n",
      "Merge\n",
      "Minimum\n",
      "Multiply\n",
      "PReLU\n",
      "Permute\n",
      "RNN\n",
      "Recurrent\n",
      "RepeatVector\n",
      "Reshape\n",
      "SeparableConv1D\n",
      "SeparableConv2D\n",
      "SeparableConvolution1D\n",
      "SeparableConvolution2D\n",
      "SimpleRNN\n",
      "SimpleRNNCell\n",
      "Softmax\n",
      "SpatialDropout1D\n",
      "SpatialDropout2D\n",
      "SpatialDropout3D\n",
      "StackedRNNCells\n",
      "Subtract\n",
      "ThresholdedReLU\n",
      "TimeDistributed\n",
      "UpSampling1D\n",
      "UpSampling2D\n",
      "UpSampling3D\n",
      "Wrapper\n",
      "ZeroPadding1D\n",
      "ZeroPadding2D\n",
      "ZeroPadding3D\n"
     ]
    }
   ],
   "source": [
    "[print(x) for x in dir(keras.layers) if x[0].isupper()];"
   ]
  },
  {
   "cell_type": "markdown",
   "metadata": {},
   "source": [
    "### Activations"
   ]
  },
  {
   "cell_type": "markdown",
   "metadata": {},
   "source": [
    "`keras.activations.*`"
   ]
  },
  {
   "cell_type": "code",
   "execution_count": 3,
   "metadata": {},
   "outputs": [
    {
     "name": "stdout",
     "output_type": "stream",
     "text": [
      "absolute_import\n",
      "deserialize\n",
      "deserialize_keras_object\n",
      "division\n",
      "elu\n",
      "get\n",
      "hard_sigmoid\n",
      "linear\n",
      "print_function\n",
      "relu\n",
      "selu\n",
      "serialize\n",
      "sigmoid\n",
      "six\n",
      "softmax\n",
      "softplus\n",
      "softsign\n",
      "tanh\n",
      "warnings\n"
     ]
    }
   ],
   "source": [
    "[print(x) for x in dir(keras.activations) if x[0].islower()];"
   ]
  },
  {
   "cell_type": "markdown",
   "metadata": {},
   "source": [
    "### Optimizers"
   ]
  },
  {
   "cell_type": "markdown",
   "metadata": {},
   "source": [
    "`keras.optimizers.*`"
   ]
  },
  {
   "cell_type": "code",
   "execution_count": 4,
   "metadata": {
    "scrolled": true
   },
   "outputs": [
    {
     "name": "stdout",
     "output_type": "stream",
     "text": [
      "Adadelta\n",
      "Adagrad\n",
      "Adam\n",
      "Adamax\n",
      "K\n",
      "Nadam\n",
      "Optimizer\n",
      "RMSprop\n",
      "SGD\n",
      "TFOptimizer\n"
     ]
    }
   ],
   "source": [
    "[print(x) for x in dir(keras.optimizers) if x[0].isupper()];"
   ]
  },
  {
   "cell_type": "markdown",
   "metadata": {},
   "source": [
    "### Criterions"
   ]
  },
  {
   "cell_type": "markdown",
   "metadata": {},
   "source": [
    "`keras.losses.*`"
   ]
  },
  {
   "cell_type": "code",
   "execution_count": 5,
   "metadata": {},
   "outputs": [
    {
     "name": "stdout",
     "output_type": "stream",
     "text": [
      "absolute_import\n",
      "binary_crossentropy\n",
      "categorical_crossentropy\n",
      "categorical_hinge\n",
      "cosine\n",
      "cosine_proximity\n",
      "deserialize\n",
      "deserialize_keras_object\n",
      "division\n",
      "get\n",
      "hinge\n",
      "kld\n",
      "kullback_leibler_divergence\n",
      "logcosh\n",
      "mae\n",
      "mape\n",
      "mean_absolute_error\n",
      "mean_absolute_percentage_error\n",
      "mean_squared_error\n",
      "mean_squared_logarithmic_error\n",
      "mse\n",
      "msle\n",
      "poisson\n",
      "print_function\n",
      "serialize\n",
      "serialize_keras_object\n",
      "six\n",
      "sparse_categorical_crossentropy\n",
      "squared_hinge\n"
     ]
    }
   ],
   "source": [
    "[print(x) for x in dir(keras.losses) if x[0].islower()];"
   ]
  },
  {
   "cell_type": "markdown",
   "metadata": {},
   "source": [
    "#### See more [keras.io](https://keras.io/)"
   ]
  },
  {
   "cell_type": "markdown",
   "metadata": {},
   "source": [
    "## MNIST classifier example"
   ]
  },
  {
   "cell_type": "code",
   "execution_count": 6,
   "metadata": {},
   "outputs": [],
   "source": [
    "from keras.models import Sequential\n",
    "from keras.layers import Dense, Flatten, Convolution2D, MaxPooling2D, Dropout\n",
    "from keras.optimizers import RMSprop\n",
    "from keras.datasets import mnist"
   ]
  },
  {
   "cell_type": "code",
   "execution_count": 7,
   "metadata": {},
   "outputs": [],
   "source": [
    "nb_classes = 10\n",
    "\n",
    "pool_size = (2, 2)                  # size of pooling area for max pooling\n",
    "prob_drop_conv = 0.2                # drop probability for dropout @ conv layer\n",
    "prob_drop_hidden = 0.5              # drop probability for dropout @ fc layer"
   ]
  },
  {
   "cell_type": "code",
   "execution_count": 8,
   "metadata": {},
   "outputs": [
    {
     "name": "stdout",
     "output_type": "stream",
     "text": [
      "X_train original shape: (60000, 28, 28)\n",
      "X_train original shape: (60000,)\n"
     ]
    }
   ],
   "source": [
    "(X_train, y_train), (X_test, y_test) = mnist.load_data()\n",
    "print('X_train original shape:', X_train.shape)\n",
    "print('X_train original shape:', y_train.shape)"
   ]
  },
  {
   "cell_type": "code",
   "execution_count": 9,
   "metadata": {},
   "outputs": [],
   "source": [
    "# For TensorFlow backend\n",
    "X_train = X_train.reshape(X_train.shape[0], 28, 28, 1)\n",
    "X_test = X_test.reshape(X_test.shape[0], 28, 28, 1)\n",
    "input_shape = (28, 28, 1)"
   ]
  },
  {
   "cell_type": "code",
   "execution_count": 10,
   "metadata": {},
   "outputs": [
    {
     "name": "stdout",
     "output_type": "stream",
     "text": [
      "X_train shape: (60000, 28, 28, 1)\n",
      "y_train shape: (60000, 10)\n",
      "60000 train samples\n",
      "10000 test samples\n"
     ]
    }
   ],
   "source": [
    "X_train = X_train.astype('float32') / 255.\n",
    "X_test = X_test.astype('float32') / 255.\n",
    "Y_train = keras.utils.to_categorical(y_train, nb_classes)\n",
    "Y_test = keras.utils.to_categorical(y_test, nb_classes)\n",
    "\n",
    "print('X_train shape:', X_train.shape)\n",
    "print('y_train shape:', Y_train.shape)\n",
    "\n",
    "print(X_train.shape[0], 'train samples')\n",
    "print(X_test.shape[0], 'test samples')"
   ]
  },
  {
   "cell_type": "code",
   "execution_count": 11,
   "metadata": {},
   "outputs": [
    {
     "name": "stdout",
     "output_type": "stream",
     "text": [
      "_________________________________________________________________\n",
      "Layer (type)                 Output Shape              Param #   \n",
      "=================================================================\n",
      "conv2d_1 (Conv2D)            (None, 10, 10, 32)        320       \n",
      "_________________________________________________________________\n",
      "max_pooling2d_1 (MaxPooling2 (None, 5, 5, 32)          0         \n",
      "_________________________________________________________________\n",
      "flatten_1 (Flatten)          (None, 800)               0         \n",
      "_________________________________________________________________\n",
      "dropout_1 (Dropout)          (None, 800)               0         \n",
      "_________________________________________________________________\n",
      "dense_1 (Dense)              (None, 625)               500625    \n",
      "_________________________________________________________________\n",
      "dropout_2 (Dropout)          (None, 625)               0         \n",
      "_________________________________________________________________\n",
      "dense_2 (Dense)              (None, 10)                6260      \n",
      "=================================================================\n",
      "Total params: 507,205\n",
      "Trainable params: 507,205\n",
      "Non-trainable params: 0\n",
      "_________________________________________________________________\n"
     ]
    }
   ],
   "source": [
    "# Convolutional model\n",
    "model = Sequential()\n",
    "\n",
    "# conv layer\n",
    "model.add(Convolution2D(32, 3, strides=3, padding='same', activation='relu', \n",
    "                        input_shape=input_shape))\n",
    "model.add(MaxPooling2D(pool_size=pool_size, strides=(2,2), padding='same'))\n",
    "\n",
    "model.add(Flatten())\n",
    "model.add(Dropout(prob_drop_conv))\n",
    "\n",
    "# fc1 layer\n",
    "model.add(Dense(625, activation='relu'))\n",
    "model.add(Dropout(prob_drop_hidden))\n",
    "\n",
    "# fc2 layer\n",
    "model.add(Dense(10, activation='softmax'))\n",
    "\n",
    "opt = RMSprop(lr=0.001, rho=0.9)\n",
    "model.compile(optimizer=opt, loss='categorical_crossentropy', metrics=['accuracy'])\n",
    "model.summary()"
   ]
  },
  {
   "cell_type": "code",
   "execution_count": 12,
   "metadata": {},
   "outputs": [
    {
     "name": "stdout",
     "output_type": "stream",
     "text": [
      "Epoch 1/10\n",
      "60000/60000 [==============================] - 6s 107us/step - loss: 0.4665 - acc: 0.8525\n",
      "Epoch 2/10\n",
      "60000/60000 [==============================] - 5s 76us/step - loss: 0.2284 - acc: 0.9277\n",
      "Epoch 3/10\n",
      "60000/60000 [==============================] - 4s 74us/step - loss: 0.1815 - acc: 0.9430\n",
      "Epoch 4/10\n",
      "60000/60000 [==============================] - 5s 84us/step - loss: 0.1556 - acc: 0.9505\n",
      "Epoch 5/10\n",
      "60000/60000 [==============================] - 4s 73us/step - loss: 0.1398 - acc: 0.9557\n",
      "Epoch 6/10\n",
      "60000/60000 [==============================] - 5s 81us/step - loss: 0.1276 - acc: 0.9599\n",
      "Epoch 7/10\n",
      "60000/60000 [==============================] - 5s 79us/step - loss: 0.1217 - acc: 0.9618\n",
      "Epoch 8/10\n",
      "60000/60000 [==============================] - 5s 75us/step - loss: 0.1158 - acc: 0.9646\n",
      "Epoch 9/10\n",
      "60000/60000 [==============================] - 4s 74us/step - loss: 0.1118 - acc: 0.9660\n",
      "Epoch 10/10\n",
      "60000/60000 [==============================] - 4s 75us/step - loss: 0.1069 - acc: 0.9673\n"
     ]
    }
   ],
   "source": [
    "# Train\n",
    "history = model.fit(X_train, Y_train, epochs=10, batch_size=100, \n",
    "                    shuffle=True, verbose=1)"
   ]
  },
  {
   "cell_type": "code",
   "execution_count": 13,
   "metadata": {},
   "outputs": [
    {
     "name": "stdout",
     "output_type": "stream",
     "text": [
      "10000/10000 [==============================] - 0s 19us/step\n",
      "Summary: Loss over the test dataset: 0.08, Accuracy: %97.570000\n"
     ]
    }
   ],
   "source": [
    "# Evaluate\n",
    "evaluation = model.evaluate(X_test, Y_test, batch_size=256, verbose=1)\n",
    "print('Summary: Loss over the test dataset: %.2f, Accuracy: %.2%%f' % (evaluation[0], evaluation[1]*100))"
   ]
  },
  {
   "cell_type": "code",
   "execution_count": 14,
   "metadata": {},
   "outputs": [
    {
     "data": {
      "text/plain": [
       "(6, 6)"
      ]
     },
     "execution_count": 14,
     "metadata": {},
     "output_type": "execute_result"
    }
   ],
   "source": [
    "# Predict\n",
    "model.predict(X_test[2718][None]).argmax(), Y_test[2718].argmax()"
   ]
  }
 ],
 "metadata": {
  "kernelspec": {
   "display_name": "Python 3",
   "language": "python",
   "name": "python3"
  },
  "language_info": {
   "codemirror_mode": {
    "name": "ipython",
    "version": 3
   },
   "file_extension": ".py",
   "mimetype": "text/x-python",
   "name": "python",
   "nbconvert_exporter": "python",
   "pygments_lexer": "ipython3",
   "version": "3.6.6"
  }
 },
 "nbformat": 4,
 "nbformat_minor": 2
}
