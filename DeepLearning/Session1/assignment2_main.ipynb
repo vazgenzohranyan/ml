{
 "cells": [
  {
   "cell_type": "markdown",
   "metadata": {},
   "source": [
    "# Basic Artificial Neural Networks"
   ]
  },
  {
   "cell_type": "markdown",
   "metadata": {},
   "source": [
    "The goal of this homework is simple, yet an actual implementation may take some time :). We are going to write an Artificial Neural Network (almost) from scratch. The software design of was heavily inspired by [Torch](http://torch.ch) which is the most convenient neural network environment when the work involves defining new layers. "
   ]
  },
  {
   "cell_type": "markdown",
   "metadata": {},
   "source": [
    "This homework requires sending **\"multiple** files, please do not forget to include all the files when submit. The list of files:\n",
    "- This notebook\n",
    "- assignment1_modules.ipynb\n",
    "- assignment0_differentiation.ipynb"
   ]
  },
  {
   "cell_type": "code",
   "execution_count": 2,
   "metadata": {},
   "outputs": [
    {
     "name": "stderr",
     "output_type": "stream",
     "text": [
      "\n",
      "Bad key \"xtick.alignment\" on line 250 in\n",
      "/usr/share/matplotlib/mpl-data/stylelib/classic.mplstyle.\n",
      "You probably need to get an updated matplotlibrc file from\n",
      "http://github.com/matplotlib/matplotlib/blob/master/matplotlibrc.template\n",
      "or from the matplotlib source distribution\n",
      "\n",
      "Bad key \"ytick.alignment\" on line 268 in\n",
      "/usr/share/matplotlib/mpl-data/stylelib/classic.mplstyle.\n",
      "You probably need to get an updated matplotlibrc file from\n",
      "http://github.com/matplotlib/matplotlib/blob/master/matplotlibrc.template\n",
      "or from the matplotlib source distribution\n"
     ]
    }
   ],
   "source": [
    "from time import time, sleep\n",
    "import numpy as np\n",
    "import matplotlib.pyplot as plt\n",
    "from IPython import display\n",
    "import matplotlib\n",
    "\n",
    "%matplotlib inline\n",
    "\n",
    "matplotlib.style.use('ggplot')"
   ]
  },
  {
   "cell_type": "markdown",
   "metadata": {},
   "source": [
    "# Framework"
   ]
  },
  {
   "cell_type": "markdown",
   "metadata": {},
   "source": [
    "Implement everything in `Modules.ipynb`. Read all the comments thoughtfully to ease the pain. Please try not to change the prototypes.\n",
    "\n",
    "Do not forget, that each module should return AND store `output` and `gradInput`.\n",
    "\n",
    "The typical assumption is that `module.backward` is always executed after `module.forward`,\n",
    "so `output` is stored, this would be useful for `SoftMax`. "
   ]
  },
  {
   "cell_type": "code",
   "execution_count": 3,
   "metadata": {},
   "outputs": [
    {
     "data": {
      "text/plain": [
       "'\\n--------------------------------------\\n-- Tech note\\n--------------------------------------    \\nnp.multiply, np.add, np.divide, np.subtract instead of *,+,/,-\\nfor better memory handling\\n\\nSuppose you allocated a variable    \\n\\n    a = np.zeros(...)\\n\\nSo, instead of\\n\\n    a = b + c  # will be reallocated, GC needed to free\\n\\nI would go for: \\n\\n    np.add(b,c,out = a) # puts result in `a`\\n\\nBut it is completely up to you.\\n'"
      ]
     },
     "execution_count": 3,
     "metadata": {},
     "output_type": "execute_result"
    }
   ],
   "source": [
    "\"\"\"\n",
    "--------------------------------------\n",
    "-- Tech note\n",
    "--------------------------------------    \n",
    "np.multiply, np.add, np.divide, np.subtract instead of *,+,/,-\n",
    "for better memory handling\n",
    "\n",
    "Suppose you allocated a variable    \n",
    "\n",
    "    a = np.zeros(...)\n",
    "\n",
    "So, instead of\n",
    "\n",
    "    a = b + c  # will be reallocated, GC needed to free\n",
    "\n",
    "I would go for: \n",
    "\n",
    "    np.add(b,c,out = a) # puts result in `a`\n",
    "\n",
    "But it is completely up to you.\n",
    "\"\"\""
   ]
  },
  {
   "cell_type": "code",
   "execution_count": 4,
   "metadata": {},
   "outputs": [],
   "source": [
    "# Note that every time you change assignment1_modules.ipynb, \n",
    "# you should run this cell to apply your changes\n",
    "%run assignment1_modules.ipynb"
   ]
  },
  {
   "cell_type": "markdown",
   "metadata": {},
   "source": [
    "Optimizer is implemented for you. "
   ]
  },
  {
   "cell_type": "code",
   "execution_count": 206,
   "metadata": {},
   "outputs": [],
   "source": [
    "def sgd_momentum(x, dx, config, state):\n",
    "    \"\"\"\n",
    "        This is a very ugly implementation of sgd with momentum \n",
    "        just to show an example how to store old grad in state.\n",
    "        Make this function faster if you can!\n",
    "        \n",
    "        config:\n",
    "            - momentum\n",
    "            - learning_rate\n",
    "        state:\n",
    "            - old_grad\n",
    "    \"\"\"\n",
    "    \n",
    "    # x and dx have complex structure, old dx will be stored in a simpler one\n",
    "    state.setdefault('old_grad', {})\n",
    "    \n",
    "    i = 0 \n",
    "    for cur_layer_x, cur_layer_dx in zip(x,dx): \n",
    "        for cur_x, cur_dx in zip(cur_layer_x,cur_layer_dx):\n",
    "            \n",
    "            cur_old_grad = state['old_grad'].setdefault(i, np.zeros_like(cur_dx))\n",
    "            cur_old_grad = config['momentum'] * cur_old_grad + config['learning_rate'] * cur_dx\n",
    "            state['old_grad'][i] = cur_old_grad\n",
    "            \n",
    "            if cur_old_grad.shape[0] == 1:\n",
    "                cur_x = cur_x.reshape(cur_old_grad.shape)\n",
    "            \n",
    "            np.add(cur_x, -cur_old_grad, out=cur_x)\n",
    "            i += 1     "
   ]
  },
  {
   "cell_type": "markdown",
   "metadata": {},
   "source": [
    "Implement [**Adam optimizer**](https://arxiv.org/abs/1412.6980). Test and experiment it. Write your opinion.\n"
   ]
  },
  {
   "cell_type": "code",
   "execution_count": 198,
   "metadata": {},
   "outputs": [],
   "source": [
    "def adam_optimizer(x, dx, config,state):\n",
    "    \"\"\"\n",
    "        config:\n",
    "            -alpha\n",
    "            -beta1\n",
    "            -beta2\n",
    "            -epsilon\n",
    "        state:\n",
    "            -old_grad\n",
    "    \n",
    "    \"\"\"\n",
    "    \n",
    "    \n",
    "    alpha = config['alpha']\n",
    "    beta1 = config['beta1']\n",
    "    beta2 = config['beta2']\n",
    "    epsilon = config['epsilon']\n",
    "    i = state['t']\n",
    "    \n",
    "    state.setdefault('m', {})\n",
    "    state.setdefault('v', {})\n",
    "    state.setdefault('old_grad', {})\n",
    "    \n",
    "    params = []\n",
    "    \n",
    "    for cur_layer_x, cur_layer_dx in zip(x,dx):\n",
    "        for cur_x, cur_dx in zip(cur_layer_x,cur_layer_dx):\n",
    "            params.append([cur_x,cur_dx])\n",
    "    \n",
    "    for index, param in enumerate(params):\n",
    "        c_x, c_dx = param\n",
    "        \n",
    "        state['m'].setdefault(index, {})\n",
    "        state['v'].setdefault(index, {})\n",
    "        state['old_grad'].setdefault(index, {})\n",
    "        \n",
    "        m = state['m'][index].setdefault(i, np.zeros_like(c_x))\n",
    "        v = state['v'][index].setdefault(i, np.zeros_like(c_x))\n",
    "        cur_old_grad = state['old_grad'][index].setdefault(i, np.zeros_like(c_dx))\n",
    "        \n",
    "        m = beta1*m + (1 - beta1)*c_dx\n",
    "        v = beta2*v + (1 - beta2)*(c_dx**2)\n",
    "        m_hat = m/(1 - beta1**i)\n",
    "        v_hat = v/(1 - beta2**i)\n",
    "        cur_old_grad = alpha*(m_hat/(np.sqrt(v_hat) + epsilon))\n",
    "        \n",
    "        state['old_grad'][index][i] = cur_old_grad\n",
    "        state['m'][index][i] = m\n",
    "        state['v'][index][i] = v\n",
    "\n",
    "        np.add(c_x, -cur_old_grad, out=c_x)\n",
    "    \n",
    "    state['t'] += 1"
   ]
  },
  {
   "cell_type": "markdown",
   "metadata": {},
   "source": [
    "# Toy example"
   ]
  },
  {
   "cell_type": "markdown",
   "metadata": {},
   "source": [
    "Use this example to debug your code, start with logistic regression and then test other layers. You do not need to change anything here. This code is provided for you to test the layers. Also it is easy to use this code in MNIST task."
   ]
  },
  {
   "cell_type": "code",
   "execution_count": 185,
   "metadata": {
    "scrolled": false
   },
   "outputs": [
    {
     "data": {
      "text/plain": [
       "<matplotlib.collections.PathCollection at 0x7efc3bc165f8>"
      ]
     },
     "execution_count": 185,
     "metadata": {},
     "output_type": "execute_result"
    },
    {
     "data": {
      "image/png": "[encoded data removed]",
      "text/plain": [
       "<matplotlib.figure.Figure at 0x7efc3be53b38>"
      ]
     },
     "metadata": {},
     "output_type": "display_data"
    }
   ],
   "source": [
    "from sklearn.datasets.samples_generator import make_blobs\n",
    "from sklearn import preprocessing\n",
    "lb = preprocessing.LabelBinarizer()\n",
    "\n",
    "X, Y = make_blobs(n_samples=500, centers=3, n_features=2)\n",
    "lb.fit(Y)\n",
    "Y = lb.transform(Y)\n",
    "# X = np.vstack([X1,X2])\n",
    "plt.scatter(X[:,0],X[:,1], c = np.argmax(Y, axis=1), edgecolors= 'none')\n"
   ]
  },
  {
   "cell_type": "markdown",
   "metadata": {},
   "source": [
    "Define a **logistic regression** for debugging. "
   ]
  },
  {
   "cell_type": "code",
   "execution_count": 186,
   "metadata": {},
   "outputs": [],
   "source": [
    "%run assignment1_modules.ipynb"
   ]
  },
  {
   "cell_type": "code",
   "execution_count": 194,
   "metadata": {},
   "outputs": [],
   "source": [
    "criterion = CrossEntropyCriterion()\n",
    "\n",
    "net = Sequential()\n",
    "net.add(Linear(2, 4))\n",
    "net.add(ReLU())\n",
    "net.add(Linear(4, 3))\n",
    "net.add(SoftMax())\n",
    "net.train()"
   ]
  },
  {
   "cell_type": "markdown",
   "metadata": {},
   "source": [
    "Start with batch_size = 1000 to make sure every step lowers the loss, then try stochastic version."
   ]
  },
  {
   "cell_type": "code",
   "execution_count": 195,
   "metadata": {},
   "outputs": [],
   "source": [
    "# Iptimizer params\n",
    "optimizer_config = {'alpha': 0.001, 'beta1': 0.9, 'beta2': 0.999, 'epsilon': 1e-8}\n",
    "optimizer_config_sgd = {'learning_rate' : 0.1, 'momentum': 0.9}\n",
    "state = {'t':1}\n",
    "\n",
    "\n",
    "# Looping params\n",
    "n_epoch = 20\n",
    "batch_size = 200"
   ]
  },
  {
   "cell_type": "code",
   "execution_count": 196,
   "metadata": {},
   "outputs": [],
   "source": [
    "# batch generator\n",
    "def get_batches(X, Y, batch_size):\n",
    "    n_samples = X.shape[0]\n",
    "        \n",
    "    # Shuffle at the start of epoch\n",
    "    indices = np.arange(n_samples)\n",
    "    np.random.shuffle(indices)\n",
    "    \n",
    "    for start in range(0, n_samples, batch_size):\n",
    "        end = min(start + batch_size, n_samples)\n",
    "        \n",
    "        batch_idx = indices[start:end]\n",
    "    \n",
    "        yield X[batch_idx], Y[batch_idx]"
   ]
  },
  {
   "cell_type": "markdown",
   "metadata": {},
   "source": [
    "### Train"
   ]
  },
  {
   "cell_type": "markdown",
   "metadata": {},
   "source": [
    "Basic training loop. Examine it."
   ]
  },
  {
   "cell_type": "code",
   "execution_count": 197,
   "metadata": {
    "scrolled": false
   },
   "outputs": [
    {
     "data": {
      "image/png": "[encoded data removed]",
      "text/plain": [
       "<matplotlib.figure.Figure at 0x7efc21932f98>"
      ]
     },
     "metadata": {},
     "output_type": "display_data"
    },
    {
     "name": "stdout",
     "output_type": "stream",
     "text": [
      "Current loss: 0.668813\n"
     ]
    }
   ],
   "source": [
    "loss_history = []\n",
    "\n",
    "for i in range(n_epoch):\n",
    "    for x_batch, y_batch in get_batches(X, Y, batch_size):\n",
    "        net.zeroGradParameters()\n",
    "        \n",
    "        # Forward\n",
    "        predictions = net.forward(x_batch)\n",
    "        loss = criterion.forward(predictions, y_batch)\n",
    "    \n",
    "        # Backward\n",
    "        dp = criterion.backward(predictions, y_batch)\n",
    "        net.backward(x_batch, dp)\n",
    "        \n",
    "        # Update weights\n",
    "        adam_optimizer(net.getParameters(), \n",
    "                     net.getGradParameters(), \n",
    "                     optimizer_config,\n",
    "                    state\n",
    "                     )      \n",
    "        print(state['t'])\n",
    "        loss_history.append(loss)\n",
    "\n",
    "    # Visualize\n",
    "    display.clear_output(wait=True)\n",
    "    plt.figure(figsize=(8, 6))\n",
    "        \n",
    "    plt.title(\"Training loss\")\n",
    "    plt.xlabel(\"#iteration\")\n",
    "    plt.ylabel(\"loss\")\n",
    "    plt.plot(loss_history, 'b')\n",
    "    plt.show()\n",
    "    \n",
    "    print('Current loss: %f' % loss)    "
   ]
  },
  {
   "cell_type": "code",
   "execution_count": 178,
   "metadata": {},
   "outputs": [
    {
     "name": "stdout",
     "output_type": "stream",
     "text": [
      "{'t': 60, 'm': {0: {0: array([-0.02978449,  0.04174665, -0.01196216]), 1: array([nan, nan, nan]), 2: array([nan, nan, nan]), 3: array([nan, nan, nan]), 4: array([nan, nan, nan]), 5: array([nan, nan, nan]), 6: array([nan, nan, nan]), 7: array([nan, nan, nan]), 8: array([nan, nan, nan]), 9: array([nan, nan, nan]), 10: array([nan, nan, nan]), 11: array([nan, nan, nan]), 12: array([nan, nan, nan]), 13: array([nan, nan, nan]), 14: array([nan, nan, nan]), 15: array([nan, nan, nan]), 16: array([nan, nan, nan]), 17: array([nan, nan, nan]), 18: array([nan, nan, nan]), 19: array([nan, nan, nan]), 20: array([nan, nan, nan]), 21: array([nan, nan, nan]), 22: array([nan, nan, nan]), 23: array([nan, nan, nan]), 24: array([nan, nan, nan]), 25: array([nan, nan, nan]), 26: array([nan, nan, nan]), 27: array([nan, nan, nan]), 28: array([nan, nan, nan]), 29: array([nan, nan, nan]), 30: array([nan, nan, nan]), 31: array([nan, nan, nan]), 32: array([nan, nan, nan]), 33: array([nan, nan, nan]), 34: array([nan, nan, nan]), 35: array([nan, nan, nan]), 36: array([nan, nan, nan]), 37: array([nan, nan, nan]), 38: array([nan, nan, nan]), 39: array([nan, nan, nan]), 40: array([nan, nan, nan]), 41: array([nan, nan, nan]), 42: array([nan, nan, nan]), 43: array([nan, nan, nan]), 44: array([nan, nan, nan]), 45: array([nan, nan, nan]), 46: array([nan, nan, nan]), 47: array([nan, nan, nan]), 48: array([nan, nan, nan]), 49: array([nan, nan, nan]), 50: array([nan, nan, nan]), 51: array([nan, nan, nan]), 52: array([nan, nan, nan]), 53: array([nan, nan, nan]), 54: array([nan, nan, nan]), 55: array([nan, nan, nan]), 56: array([nan, nan, nan]), 57: array([nan, nan, nan]), 58: array([nan, nan, nan]), 59: array([nan, nan, nan])}, 1: {0: array([-0.02978449,  0.04174665, -0.01196216]), 1: array([nan, nan, nan]), 2: array([nan, nan, nan]), 3: array([nan, nan, nan]), 4: array([nan, nan, nan]), 5: array([nan, nan, nan]), 6: array([nan, nan, nan]), 7: array([nan, nan, nan]), 8: array([nan, nan, nan]), 9: array([nan, nan, nan]), 10: array([nan, nan, nan]), 11: array([nan, nan, nan]), 12: array([nan, nan, nan]), 13: array([nan, nan, nan]), 14: array([nan, nan, nan]), 15: array([nan, nan, nan]), 16: array([nan, nan, nan]), 17: array([nan, nan, nan]), 18: array([nan, nan, nan]), 19: array([nan, nan, nan]), 20: array([nan, nan, nan]), 21: array([nan, nan, nan]), 22: array([nan, nan, nan]), 23: array([nan, nan, nan]), 24: array([nan, nan, nan]), 25: array([nan, nan, nan]), 26: array([nan, nan, nan]), 27: array([nan, nan, nan]), 28: array([nan, nan, nan]), 29: array([nan, nan, nan]), 30: array([nan, nan, nan]), 31: array([nan, nan, nan]), 32: array([nan, nan, nan]), 33: array([nan, nan, nan]), 34: array([nan, nan, nan]), 35: array([nan, nan, nan]), 36: array([nan, nan, nan]), 37: array([nan, nan, nan]), 38: array([nan, nan, nan]), 39: array([nan, nan, nan]), 40: array([nan, nan, nan]), 41: array([nan, nan, nan]), 42: array([nan, nan, nan]), 43: array([nan, nan, nan]), 44: array([nan, nan, nan]), 45: array([nan, nan, nan]), 46: array([nan, nan, nan]), 47: array([nan, nan, nan]), 48: array([nan, nan, nan]), 49: array([nan, nan, nan]), 50: array([nan, nan, nan]), 51: array([nan, nan, nan]), 52: array([nan, nan, nan]), 53: array([nan, nan, nan]), 54: array([nan, nan, nan]), 55: array([nan, nan, nan]), 56: array([nan, nan, nan]), 57: array([nan, nan, nan]), 58: array([nan, nan, nan]), 59: array([nan, nan, nan])}, 2: {0: array([-0.02978449,  0.04174665, -0.01196216]), 1: array([nan, nan, nan]), 2: array([nan, nan, nan]), 3: array([nan, nan, nan]), 4: array([nan, nan, nan]), 5: array([nan, nan, nan]), 6: array([nan, nan, nan]), 7: array([nan, nan, nan]), 8: array([nan, nan, nan]), 9: array([nan, nan, nan]), 10: array([nan, nan, nan]), 11: array([nan, nan, nan]), 12: array([nan, nan, nan]), 13: array([nan, nan, nan]), 14: array([nan, nan, nan]), 15: array([nan, nan, nan]), 16: array([nan, nan, nan]), 17: array([nan, nan, nan]), 18: array([nan, nan, nan]), 19: array([nan, nan, nan]), 20: array([nan, nan, nan]), 21: array([nan, nan, nan]), 22: array([nan, nan, nan]), 23: array([nan, nan, nan]), 24: array([nan, nan, nan]), 25: array([nan, nan, nan]), 26: array([nan, nan, nan]), 27: array([nan, nan, nan]), 28: array([nan, nan, nan]), 29: array([nan, nan, nan]), 30: array([nan, nan, nan]), 31: array([nan, nan, nan]), 32: array([nan, nan, nan]), 33: array([nan, nan, nan]), 34: array([nan, nan, nan]), 35: array([nan, nan, nan]), 36: array([nan, nan, nan]), 37: array([nan, nan, nan]), 38: array([nan, nan, nan]), 39: array([nan, nan, nan]), 40: array([nan, nan, nan]), 41: array([nan, nan, nan]), 42: array([nan, nan, nan]), 43: array([nan, nan, nan]), 44: array([nan, nan, nan]), 45: array([nan, nan, nan]), 46: array([nan, nan, nan]), 47: array([nan, nan, nan]), 48: array([nan, nan, nan]), 49: array([nan, nan, nan]), 50: array([nan, nan, nan]), 51: array([nan, nan, nan]), 52: array([nan, nan, nan]), 53: array([nan, nan, nan]), 54: array([nan, nan, nan]), 55: array([nan, nan, nan]), 56: array([nan, nan, nan]), 57: array([nan, nan, nan]), 58: array([nan, nan, nan]), 59: array([nan, nan, nan])}, 3: {0: array([-0.02978449,  0.04174665, -0.01196216]), 1: array([nan, nan, nan]), 2: array([nan, nan, nan]), 3: array([nan, nan, nan]), 4: array([nan, nan, nan]), 5: array([nan, nan, nan]), 6: array([nan, nan, nan]), 7: array([nan, nan, nan]), 8: array([nan, nan, nan]), 9: array([nan, nan, nan]), 10: array([nan, nan, nan]), 11: array([nan, nan, nan]), 12: array([nan, nan, nan]), 13: array([nan, nan, nan]), 14: array([nan, nan, nan]), 15: array([nan, nan, nan]), 16: array([nan, nan, nan]), 17: array([nan, nan, nan]), 18: array([nan, nan, nan]), 19: array([nan, nan, nan]), 20: array([nan, nan, nan]), 21: array([nan, nan, nan]), 22: array([nan, nan, nan]), 23: array([nan, nan, nan]), 24: array([nan, nan, nan]), 25: array([nan, nan, nan]), 26: array([nan, nan, nan]), 27: array([nan, nan, nan]), 28: array([nan, nan, nan]), 29: array([nan, nan, nan]), 30: array([nan, nan, nan]), 31: array([nan, nan, nan]), 32: array([nan, nan, nan]), 33: array([nan, nan, nan]), 34: array([nan, nan, nan]), 35: array([nan, nan, nan]), 36: array([nan, nan, nan]), 37: array([nan, nan, nan]), 38: array([nan, nan, nan]), 39: array([nan, nan, nan]), 40: array([nan, nan, nan]), 41: array([nan, nan, nan]), 42: array([nan, nan, nan]), 43: array([nan, nan, nan]), 44: array([nan, nan, nan]), 45: array([nan, nan, nan]), 46: array([nan, nan, nan]), 47: array([nan, nan, nan]), 48: array([nan, nan, nan]), 49: array([nan, nan, nan]), 50: array([nan, nan, nan]), 51: array([nan, nan, nan]), 52: array([nan, nan, nan]), 53: array([nan, nan, nan]), 54: array([nan, nan, nan]), 55: array([nan, nan, nan]), 56: array([nan, nan, nan]), 57: array([nan, nan, nan]), 58: array([nan, nan, nan]), 59: array([nan, nan, nan])}}, 'v': {0: {0: array([8.87115812e-05, 1.74278243e-04, 1.43093183e-05]), 1: array([nan, nan, nan]), 2: array([nan, nan, nan]), 3: array([nan, nan, nan]), 4: array([nan, nan, nan]), 5: array([nan, nan, nan]), 6: array([nan, nan, nan]), 7: array([nan, nan, nan]), 8: array([nan, nan, nan]), 9: array([nan, nan, nan]), 10: array([nan, nan, nan]), 11: array([nan, nan, nan]), 12: array([nan, nan, nan]), 13: array([nan, nan, nan]), 14: array([nan, nan, nan]), 15: array([nan, nan, nan]), 16: array([nan, nan, nan]), 17: array([nan, nan, nan]), 18: array([nan, nan, nan]), 19: array([nan, nan, nan]), 20: array([nan, nan, nan]), 21: array([nan, nan, nan]), 22: array([nan, nan, nan]), 23: array([nan, nan, nan]), 24: array([nan, nan, nan]), 25: array([nan, nan, nan]), 26: array([nan, nan, nan]), 27: array([nan, nan, nan]), 28: array([nan, nan, nan]), 29: array([nan, nan, nan]), 30: array([nan, nan, nan]), 31: array([nan, nan, nan]), 32: array([nan, nan, nan]), 33: array([nan, nan, nan]), 34: array([nan, nan, nan]), 35: array([nan, nan, nan]), 36: array([nan, nan, nan]), 37: array([nan, nan, nan]), 38: array([nan, nan, nan]), 39: array([nan, nan, nan]), 40: array([nan, nan, nan]), 41: array([nan, nan, nan]), 42: array([nan, nan, nan]), 43: array([nan, nan, nan]), 44: array([nan, nan, nan]), 45: array([nan, nan, nan]), 46: array([nan, nan, nan]), 47: array([nan, nan, nan]), 48: array([nan, nan, nan]), 49: array([nan, nan, nan]), 50: array([nan, nan, nan]), 51: array([nan, nan, nan]), 52: array([nan, nan, nan]), 53: array([nan, nan, nan]), 54: array([nan, nan, nan]), 55: array([nan, nan, nan]), 56: array([nan, nan, nan]), 57: array([nan, nan, nan]), 58: array([nan, nan, nan]), 59: array([nan, nan, nan])}, 1: {0: array([8.87115812e-05, 1.74278243e-04, 1.43093183e-05]), 1: array([nan, nan, nan]), 2: array([nan, nan, nan]), 3: array([nan, nan, nan]), 4: array([nan, nan, nan]), 5: array([nan, nan, nan]), 6: array([nan, nan, nan]), 7: array([nan, nan, nan]), 8: array([nan, nan, nan]), 9: array([nan, nan, nan]), 10: array([nan, nan, nan]), 11: array([nan, nan, nan]), 12: array([nan, nan, nan]), 13: array([nan, nan, nan]), 14: array([nan, nan, nan]), 15: array([nan, nan, nan]), 16: array([nan, nan, nan]), 17: array([nan, nan, nan]), 18: array([nan, nan, nan]), 19: array([nan, nan, nan]), 20: array([nan, nan, nan]), 21: array([nan, nan, nan]), 22: array([nan, nan, nan]), 23: array([nan, nan, nan]), 24: array([nan, nan, nan]), 25: array([nan, nan, nan]), 26: array([nan, nan, nan]), 27: array([nan, nan, nan]), 28: array([nan, nan, nan]), 29: array([nan, nan, nan]), 30: array([nan, nan, nan]), 31: array([nan, nan, nan]), 32: array([nan, nan, nan]), 33: array([nan, nan, nan]), 34: array([nan, nan, nan]), 35: array([nan, nan, nan]), 36: array([nan, nan, nan]), 37: array([nan, nan, nan]), 38: array([nan, nan, nan]), 39: array([nan, nan, nan]), 40: array([nan, nan, nan]), 41: array([nan, nan, nan]), 42: array([nan, nan, nan]), 43: array([nan, nan, nan]), 44: array([nan, nan, nan]), 45: array([nan, nan, nan]), 46: array([nan, nan, nan]), 47: array([nan, nan, nan]), 48: array([nan, nan, nan]), 49: array([nan, nan, nan]), 50: array([nan, nan, nan]), 51: array([nan, nan, nan]), 52: array([nan, nan, nan]), 53: array([nan, nan, nan]), 54: array([nan, nan, nan]), 55: array([nan, nan, nan]), 56: array([nan, nan, nan]), 57: array([nan, nan, nan]), 58: array([nan, nan, nan]), 59: array([nan, nan, nan])}, 2: {0: array([8.87115812e-05, 1.74278243e-04, 1.43093183e-05]), 1: array([nan, nan, nan]), 2: array([nan, nan, nan]), 3: array([nan, nan, nan]), 4: array([nan, nan, nan]), 5: array([nan, nan, nan]), 6: array([nan, nan, nan]), 7: array([nan, nan, nan]), 8: array([nan, nan, nan]), 9: array([nan, nan, nan]), 10: array([nan, nan, nan]), 11: array([nan, nan, nan]), 12: array([nan, nan, nan]), 13: array([nan, nan, nan]), 14: array([nan, nan, nan]), 15: array([nan, nan, nan]), 16: array([nan, nan, nan]), 17: array([nan, nan, nan]), 18: array([nan, nan, nan]), 19: array([nan, nan, nan]), 20: array([nan, nan, nan]), 21: array([nan, nan, nan]), 22: array([nan, nan, nan]), 23: array([nan, nan, nan]), 24: array([nan, nan, nan]), 25: array([nan, nan, nan]), 26: array([nan, nan, nan]), 27: array([nan, nan, nan]), 28: array([nan, nan, nan]), 29: array([nan, nan, nan]), 30: array([nan, nan, nan]), 31: array([nan, nan, nan]), 32: array([nan, nan, nan]), 33: array([nan, nan, nan]), 34: array([nan, nan, nan]), 35: array([nan, nan, nan]), 36: array([nan, nan, nan]), 37: array([nan, nan, nan]), 38: array([nan, nan, nan]), 39: array([nan, nan, nan]), 40: array([nan, nan, nan]), 41: array([nan, nan, nan]), 42: array([nan, nan, nan]), 43: array([nan, nan, nan]), 44: array([nan, nan, nan]), 45: array([nan, nan, nan]), 46: array([nan, nan, nan]), 47: array([nan, nan, nan]), 48: array([nan, nan, nan]), 49: array([nan, nan, nan]), 50: array([nan, nan, nan]), 51: array([nan, nan, nan]), 52: array([nan, nan, nan]), 53: array([nan, nan, nan]), 54: array([nan, nan, nan]), 55: array([nan, nan, nan]), 56: array([nan, nan, nan]), 57: array([nan, nan, nan]), 58: array([nan, nan, nan]), 59: array([nan, nan, nan])}, 3: {0: array([8.87115812e-05, 1.74278243e-04, 1.43093183e-05]), 1: array([nan, nan, nan]), 2: array([nan, nan, nan]), 3: array([nan, nan, nan]), 4: array([nan, nan, nan]), 5: array([nan, nan, nan]), 6: array([nan, nan, nan]), 7: array([nan, nan, nan]), 8: array([nan, nan, nan]), 9: array([nan, nan, nan]), 10: array([nan, nan, nan]), 11: array([nan, nan, nan]), 12: array([nan, nan, nan]), 13: array([nan, nan, nan]), 14: array([nan, nan, nan]), 15: array([nan, nan, nan]), 16: array([nan, nan, nan]), 17: array([nan, nan, nan]), 18: array([nan, nan, nan]), 19: array([nan, nan, nan]), 20: array([nan, nan, nan]), 21: array([nan, nan, nan]), 22: array([nan, nan, nan]), 23: array([nan, nan, nan]), 24: array([nan, nan, nan]), 25: array([nan, nan, nan]), 26: array([nan, nan, nan]), 27: array([nan, nan, nan]), 28: array([nan, nan, nan]), 29: array([nan, nan, nan]), 30: array([nan, nan, nan]), 31: array([nan, nan, nan]), 32: array([nan, nan, nan]), 33: array([nan, nan, nan]), 34: array([nan, nan, nan]), 35: array([nan, nan, nan]), 36: array([nan, nan, nan]), 37: array([nan, nan, nan]), 38: array([nan, nan, nan]), 39: array([nan, nan, nan]), 40: array([nan, nan, nan]), 41: array([nan, nan, nan]), 42: array([nan, nan, nan]), 43: array([nan, nan, nan]), 44: array([nan, nan, nan]), 45: array([nan, nan, nan]), 46: array([nan, nan, nan]), 47: array([nan, nan, nan]), 48: array([nan, nan, nan]), 49: array([nan, nan, nan]), 50: array([nan, nan, nan]), 51: array([nan, nan, nan]), 52: array([nan, nan, nan]), 53: array([nan, nan, nan]), 54: array([nan, nan, nan]), 55: array([nan, nan, nan]), 56: array([nan, nan, nan]), 57: array([nan, nan, nan]), 58: array([nan, nan, nan]), 59: array([nan, nan, nan])}}, 'old_grad': {0: {0: array([nan, nan, nan]), 1: array([nan, nan, nan]), 2: array([nan, nan, nan]), 3: array([nan, nan, nan]), 4: array([nan, nan, nan]), 5: array([nan, nan, nan]), 6: array([nan, nan, nan]), 7: array([nan, nan, nan]), 8: array([nan, nan, nan]), 9: array([nan, nan, nan]), 10: array([nan, nan, nan]), 11: array([nan, nan, nan]), 12: array([nan, nan, nan]), 13: array([nan, nan, nan]), 14: array([nan, nan, nan]), 15: array([nan, nan, nan]), 16: array([nan, nan, nan]), 17: array([nan, nan, nan]), 18: array([nan, nan, nan]), 19: array([nan, nan, nan]), 20: array([nan, nan, nan]), 21: array([nan, nan, nan]), 22: array([nan, nan, nan]), 23: array([nan, nan, nan]), 24: array([nan, nan, nan]), 25: array([nan, nan, nan]), 26: array([nan, nan, nan]), 27: array([nan, nan, nan]), 28: array([nan, nan, nan]), 29: array([nan, nan, nan]), 30: array([nan, nan, nan]), 31: array([nan, nan, nan]), 32: array([nan, nan, nan]), 33: array([nan, nan, nan]), 34: array([nan, nan, nan]), 35: array([nan, nan, nan]), 36: array([nan, nan, nan]), 37: array([nan, nan, nan]), 38: array([nan, nan, nan]), 39: array([nan, nan, nan]), 40: array([nan, nan, nan]), 41: array([nan, nan, nan]), 42: array([nan, nan, nan]), 43: array([nan, nan, nan]), 44: array([nan, nan, nan]), 45: array([nan, nan, nan]), 46: array([nan, nan, nan]), 47: array([nan, nan, nan]), 48: array([nan, nan, nan]), 49: array([nan, nan, nan]), 50: array([nan, nan, nan]), 51: array([nan, nan, nan]), 52: array([nan, nan, nan]), 53: array([nan, nan, nan]), 54: array([nan, nan, nan]), 55: array([nan, nan, nan]), 56: array([nan, nan, nan]), 57: array([nan, nan, nan]), 58: array([nan, nan, nan]), 59: array([nan, nan, nan])}, 1: {0: array([nan, nan, nan]), 1: array([nan, nan, nan]), 2: array([nan, nan, nan]), 3: array([nan, nan, nan]), 4: array([nan, nan, nan]), 5: array([nan, nan, nan]), 6: array([nan, nan, nan]), 7: array([nan, nan, nan]), 8: array([nan, nan, nan]), 9: array([nan, nan, nan]), 10: array([nan, nan, nan]), 11: array([nan, nan, nan]), 12: array([nan, nan, nan]), 13: array([nan, nan, nan]), 14: array([nan, nan, nan]), 15: array([nan, nan, nan]), 16: array([nan, nan, nan]), 17: array([nan, nan, nan]), 18: array([nan, nan, nan]), 19: array([nan, nan, nan]), 20: array([nan, nan, nan]), 21: array([nan, nan, nan]), 22: array([nan, nan, nan]), 23: array([nan, nan, nan]), 24: array([nan, nan, nan]), 25: array([nan, nan, nan]), 26: array([nan, nan, nan]), 27: array([nan, nan, nan]), 28: array([nan, nan, nan]), 29: array([nan, nan, nan]), 30: array([nan, nan, nan]), 31: array([nan, nan, nan]), 32: array([nan, nan, nan]), 33: array([nan, nan, nan]), 34: array([nan, nan, nan]), 35: array([nan, nan, nan]), 36: array([nan, nan, nan]), 37: array([nan, nan, nan]), 38: array([nan, nan, nan]), 39: array([nan, nan, nan]), 40: array([nan, nan, nan]), 41: array([nan, nan, nan]), 42: array([nan, nan, nan]), 43: array([nan, nan, nan]), 44: array([nan, nan, nan]), 45: array([nan, nan, nan]), 46: array([nan, nan, nan]), 47: array([nan, nan, nan]), 48: array([nan, nan, nan]), 49: array([nan, nan, nan]), 50: array([nan, nan, nan]), 51: array([nan, nan, nan]), 52: array([nan, nan, nan]), 53: array([nan, nan, nan]), 54: array([nan, nan, nan]), 55: array([nan, nan, nan]), 56: array([nan, nan, nan]), 57: array([nan, nan, nan]), 58: array([nan, nan, nan]), 59: array([nan, nan, nan])}, 2: {0: array([nan, nan, nan]), 1: array([nan, nan, nan]), 2: array([nan, nan, nan]), 3: array([nan, nan, nan]), 4: array([nan, nan, nan]), 5: array([nan, nan, nan]), 6: array([nan, nan, nan]), 7: array([nan, nan, nan]), 8: array([nan, nan, nan]), 9: array([nan, nan, nan]), 10: array([nan, nan, nan]), 11: array([nan, nan, nan]), 12: array([nan, nan, nan]), 13: array([nan, nan, nan]), 14: array([nan, nan, nan]), 15: array([nan, nan, nan]), 16: array([nan, nan, nan]), 17: array([nan, nan, nan]), 18: array([nan, nan, nan]), 19: array([nan, nan, nan]), 20: array([nan, nan, nan]), 21: array([nan, nan, nan]), 22: array([nan, nan, nan]), 23: array([nan, nan, nan]), 24: array([nan, nan, nan]), 25: array([nan, nan, nan]), 26: array([nan, nan, nan]), 27: array([nan, nan, nan]), 28: array([nan, nan, nan]), 29: array([nan, nan, nan]), 30: array([nan, nan, nan]), 31: array([nan, nan, nan]), 32: array([nan, nan, nan]), 33: array([nan, nan, nan]), 34: array([nan, nan, nan]), 35: array([nan, nan, nan]), 36: array([nan, nan, nan]), 37: array([nan, nan, nan]), 38: array([nan, nan, nan]), 39: array([nan, nan, nan]), 40: array([nan, nan, nan]), 41: array([nan, nan, nan]), 42: array([nan, nan, nan]), 43: array([nan, nan, nan]), 44: array([nan, nan, nan]), 45: array([nan, nan, nan]), 46: array([nan, nan, nan]), 47: array([nan, nan, nan]), 48: array([nan, nan, nan]), 49: array([nan, nan, nan]), 50: array([nan, nan, nan]), 51: array([nan, nan, nan]), 52: array([nan, nan, nan]), 53: array([nan, nan, nan]), 54: array([nan, nan, nan]), 55: array([nan, nan, nan]), 56: array([nan, nan, nan]), 57: array([nan, nan, nan]), 58: array([nan, nan, nan]), 59: array([nan, nan, nan])}, 3: {0: array([nan, nan, nan]), 1: array([nan, nan, nan]), 2: array([nan, nan, nan]), 3: array([nan, nan, nan]), 4: array([nan, nan, nan]), 5: array([nan, nan, nan]), 6: array([nan, nan, nan]), 7: array([nan, nan, nan]), 8: array([nan, nan, nan]), 9: array([nan, nan, nan]), 10: array([nan, nan, nan]), 11: array([nan, nan, nan]), 12: array([nan, nan, nan]), 13: array([nan, nan, nan]), 14: array([nan, nan, nan]), 15: array([nan, nan, nan]), 16: array([nan, nan, nan]), 17: array([nan, nan, nan]), 18: array([nan, nan, nan]), 19: array([nan, nan, nan]), 20: array([nan, nan, nan]), 21: array([nan, nan, nan]), 22: array([nan, nan, nan]), 23: array([nan, nan, nan]), 24: array([nan, nan, nan]), 25: array([nan, nan, nan]), 26: array([nan, nan, nan]), 27: array([nan, nan, nan]), 28: array([nan, nan, nan]), 29: array([nan, nan, nan]), 30: array([nan, nan, nan]), 31: array([nan, nan, nan]), 32: array([nan, nan, nan]), 33: array([nan, nan, nan]), 34: array([nan, nan, nan]), 35: array([nan, nan, nan]), 36: array([nan, nan, nan]), 37: array([nan, nan, nan]), 38: array([nan, nan, nan]), 39: array([nan, nan, nan]), 40: array([nan, nan, nan]), 41: array([nan, nan, nan]), 42: array([nan, nan, nan]), 43: array([nan, nan, nan]), 44: array([nan, nan, nan]), 45: array([nan, nan, nan]), 46: array([nan, nan, nan]), 47: array([nan, nan, nan]), 48: array([nan, nan, nan]), 49: array([nan, nan, nan]), 50: array([nan, nan, nan]), 51: array([nan, nan, nan]), 52: array([nan, nan, nan]), 53: array([nan, nan, nan]), 54: array([nan, nan, nan]), 55: array([nan, nan, nan]), 56: array([nan, nan, nan]), 57: array([nan, nan, nan]), 58: array([nan, nan, nan]), 59: array([nan, nan, nan])}}}\n"
     ]
    }
   ],
   "source": [
    "print(state)"
   ]
  },
  {
   "cell_type": "markdown",
   "metadata": {},
   "source": [
    "# Digit classification "
   ]
  },
  {
   "cell_type": "markdown",
   "metadata": {},
   "source": [
    "We are using [MNIST](http://yann.lecun.com/exdb/mnist/) as our dataset. Lets start with [cool visualization](http://scs.ryerson.ca/~aharley/vis/). The most beautiful demo is the second one, if you are not familiar with convolutions you can return to it in several lectures. "
   ]
  },
  {
   "cell_type": "code",
   "execution_count": 199,
   "metadata": {},
   "outputs": [],
   "source": [
    "import os\n",
    "from sklearn.datasets import fetch_mldata\n",
    "\n",
    "# Fetch MNIST dataset and create a local copy.\n",
    "if os.path.exists('mnist.npz'):\n",
    "    with np.load('mnist.npz', 'r') as data:\n",
    "        X = data['X']\n",
    "        y = data['y']\n",
    "else:\n",
    "    mnist = fetch_mldata(\"mnist-original\")\n",
    "    X, y = mnist.data / 255.0, mnist.target\n",
    "    np.savez('mnist.npz', X=X, y=y)"
   ]
  },
  {
   "cell_type": "markdown",
   "metadata": {},
   "source": [
    "One-hot encode the labels first."
   ]
  },
  {
   "cell_type": "code",
   "execution_count": 200,
   "metadata": {},
   "outputs": [],
   "source": [
    "from sklearn.preprocessing import OneHotEncoder\n",
    "\n",
    "enc = OneHotEncoder()\n",
    "one_hot_y = enc.fit_transform(y.reshape(-1, 1)).todense()\n",
    "\n",
    "one_hot_y = np.array(one_hot_y)\n",
    "\n",
    "X_test = X[:7000]\n",
    "y_test = y[:7000]\n",
    "\n",
    "X_valid = X[7000:14000]\n",
    "y_valid = one_hot_y[7000:14000]\n",
    "\n",
    "X_train = X[14000:]\n",
    "y_train = one_hot_y[14000:]"
   ]
  },
  {
   "cell_type": "markdown",
   "metadata": {},
   "source": [
    "- **Compare** `ReLU`, `ELU`, `LeakyReLU`, `SoftPlus` activation functions. \n",
    "You would better pick the best optimizer params for each of them, but it is overkill for now. Use an architecture of your choice for the comparison.\n",
    "- **Try** inserting `BatchMeanSubtraction` between `Linear` module and activation functions.\n",
    "- Plot the losses both from activation functions comparison and `BatchMeanSubtraction` comparison on one plot. Please find a scale (log?) when the lines are distinguishable, do not forget about naming the axes, the plot should be goodlooking.\n",
    "- Hint: logloss for MNIST should be around 0.5. "
   ]
  },
  {
   "cell_type": "code",
   "execution_count": 49,
   "metadata": {},
   "outputs": [],
   "source": [
    "%run assignment1_modules.ipynb"
   ]
  },
  {
   "cell_type": "code",
   "execution_count": 50,
   "metadata": {},
   "outputs": [
    {
     "name": "stdout",
     "output_type": "stream",
     "text": [
      "Linear 784 -> 4\n",
      "SoftPlus\n",
      "Linear 4 -> 10\n",
      "SoftMax\n",
      "\n",
      "Linear 784 -> 4\n",
      "BatchMeanNormalization\n",
      "SoftPlus\n",
      "Linear 4 -> 10\n",
      "SoftMax\n",
      "\n"
     ]
    }
   ],
   "source": [
    "criterion = CrossEntropyCriterion()\n",
    "criterion_b = CrossEntropyCriterion()\n",
    "# Test something like that then \n",
    "\n",
    "net = Sequential()\n",
    "net.add(Linear(784, 4))\n",
    "net.add(SoftPlus())\n",
    "net.add(Linear(4, 10))\n",
    "net.add(SoftMax())\n",
    "\n",
    "net_b = Sequential()\n",
    "net_b.add(Linear(784, 4))\n",
    "net_b.add(BatchMeanSubtraction())\n",
    "net_b.add(SoftPlus())\n",
    "net_b.add(Linear(4, 10))\n",
    "net_b.add(SoftMax())\n",
    "net_b.train()\n",
    "\n",
    "print(net)\n",
    "print(net_b)"
   ]
  },
  {
   "cell_type": "code",
   "execution_count": 51,
   "metadata": {},
   "outputs": [],
   "source": [
    "for a, b in zip(net.getParameters(), net_b.getParameters()):\n",
    "    for c, d in zip(a, b):\n",
    "        d[:] = c"
   ]
  },
  {
   "cell_type": "code",
   "execution_count": 52,
   "metadata": {},
   "outputs": [],
   "source": [
    "# Iptimizer params\n",
    "optimizer_config = {'alpha': 0.001, 'beta1': 0.9, 'beta2': 0.999, 'epsilon': 1e-8}\n",
    "optimizer_state = {'t':1}\n",
    "optimizer_state_b = {'t':1}\n",
    "\n",
    "# Looping params\n",
    "n_epoch = 20\n",
    "batch_size = 1000"
   ]
  },
  {
   "cell_type": "code",
   "execution_count": 53,
   "metadata": {},
   "outputs": [
    {
     "data": {
      "image/png": "[encoded data removed]",
      "text/plain": [
       "<matplotlib.figure.Figure at 0x7fd080252d30>"
      ]
     },
     "metadata": {},
     "output_type": "display_data"
    },
    {
     "name": "stdout",
     "output_type": "stream",
     "text": [
      "Current loss: 1.423758\n",
      "Current loss with b: 1.716995\n"
     ]
    },
    {
     "ename": "KeyboardInterrupt",
     "evalue": "",
     "output_type": "error",
     "traceback": [
      "\u001b[0;31m---------------------------------------------------------------------------\u001b[0m",
      "\u001b[0;31mKeyboardInterrupt\u001b[0m                         Traceback (most recent call last)",
      "\u001b[0;32m<ipython-input-53-2fda0f1c1900>\u001b[0m in \u001b[0;36m<module>\u001b[0;34m()\u001b[0m\n\u001b[1;32m     11\u001b[0m \u001b[0;34m\u001b[0m\u001b[0m\n\u001b[1;32m     12\u001b[0m         \u001b[0mdp\u001b[0m \u001b[0;34m=\u001b[0m \u001b[0mcriterion\u001b[0m\u001b[0;34m.\u001b[0m\u001b[0mbackward\u001b[0m\u001b[0;34m(\u001b[0m\u001b[0mpredictions\u001b[0m\u001b[0;34m,\u001b[0m \u001b[0my_batch\u001b[0m\u001b[0;34m)\u001b[0m\u001b[0;34m\u001b[0m\u001b[0m\n\u001b[0;32m---> 13\u001b[0;31m         \u001b[0mnet\u001b[0m\u001b[0;34m.\u001b[0m\u001b[0mbackward\u001b[0m\u001b[0;34m(\u001b[0m\u001b[0mx_batch\u001b[0m\u001b[0;34m,\u001b[0m \u001b[0mdp\u001b[0m\u001b[0;34m)\u001b[0m\u001b[0;34m\u001b[0m\u001b[0m\n\u001b[0m\u001b[1;32m     14\u001b[0m \u001b[0;34m\u001b[0m\u001b[0m\n\u001b[1;32m     15\u001b[0m         \u001b[0;31m# Update weights\u001b[0m\u001b[0;34m\u001b[0m\u001b[0;34m\u001b[0m\u001b[0m\n",
      "\u001b[0;32m<ipython-input-49-6a0c14ab3318>\u001b[0m in \u001b[0;36mbackward\u001b[0;34m(self, inpt, gradOutput)\u001b[0m\n\u001b[1;32m     66\u001b[0m                 \u001b[0mgrad\u001b[0m \u001b[0;34m=\u001b[0m \u001b[0mmodule\u001b[0m\u001b[0;34m.\u001b[0m\u001b[0mbackward\u001b[0m\u001b[0;34m(\u001b[0m\u001b[0minpt\u001b[0m\u001b[0;34m,\u001b[0m\u001b[0mgrad\u001b[0m\u001b[0;34m)\u001b[0m\u001b[0;34m\u001b[0m\u001b[0m\n\u001b[1;32m     67\u001b[0m             \u001b[0;32melse\u001b[0m\u001b[0;34m:\u001b[0m\u001b[0;34m\u001b[0m\u001b[0m\n\u001b[0;32m---> 68\u001b[0;31m                 \u001b[0mgrad\u001b[0m \u001b[0;34m=\u001b[0m \u001b[0mmodule\u001b[0m\u001b[0;34m.\u001b[0m\u001b[0mbackward\u001b[0m\u001b[0;34m(\u001b[0m\u001b[0mself\u001b[0m\u001b[0;34m.\u001b[0m\u001b[0my\u001b[0m\u001b[0;34m[\u001b[0m\u001b[0mn\u001b[0m\u001b[0;34m]\u001b[0m\u001b[0;34m,\u001b[0m\u001b[0mgrad\u001b[0m\u001b[0;34m)\u001b[0m\u001b[0;34m\u001b[0m\u001b[0m\n\u001b[0m\u001b[1;32m     69\u001b[0m             \u001b[0mn\u001b[0m \u001b[0;34m-=\u001b[0m \u001b[0;36m1\u001b[0m\u001b[0;34m\u001b[0m\u001b[0m\n\u001b[1;32m     70\u001b[0m         \u001b[0mself\u001b[0m\u001b[0;34m.\u001b[0m\u001b[0mgradInput\u001b[0m \u001b[0;34m=\u001b[0m \u001b[0mgrad\u001b[0m\u001b[0;34m\u001b[0m\u001b[0m\n",
      "\u001b[0;32m<ipython-input-49-aec167993092>\u001b[0m in \u001b[0;36mbackward\u001b[0;34m(self, inpt, gradOutput)\u001b[0m\n\u001b[1;32m     33\u001b[0m          \u001b[0;34m-\u001b[0m \u001b[0mcomputing\u001b[0m \u001b[0ma\u001b[0m \u001b[0mgradient\u001b[0m \u001b[0mw\u001b[0m\u001b[0;34m.\u001b[0m\u001b[0mr\u001b[0m\u001b[0;34m.\u001b[0m\u001b[0mt\u001b[0m\u001b[0;34m.\u001b[0m \u001b[0mparameters\u001b[0m \u001b[0;34m(\u001b[0m\u001b[0mto\u001b[0m \u001b[0mupdate\u001b[0m \u001b[0mparameters\u001b[0m \u001b[0;32mwhile\u001b[0m \u001b[0moptimizing\u001b[0m\u001b[0;34m)\u001b[0m\u001b[0;34m.\u001b[0m\u001b[0;34m\u001b[0m\u001b[0m\n\u001b[1;32m     34\u001b[0m         \"\"\"\n\u001b[0;32m---> 35\u001b[0;31m         \u001b[0mself\u001b[0m\u001b[0;34m.\u001b[0m\u001b[0mupdateGradInput\u001b[0m\u001b[0;34m(\u001b[0m\u001b[0minpt\u001b[0m\u001b[0;34m,\u001b[0m \u001b[0mgradOutput\u001b[0m\u001b[0;34m)\u001b[0m\u001b[0;34m\u001b[0m\u001b[0m\n\u001b[0m\u001b[1;32m     36\u001b[0m         \u001b[0mself\u001b[0m\u001b[0;34m.\u001b[0m\u001b[0maccGradParameters\u001b[0m\u001b[0;34m(\u001b[0m\u001b[0minpt\u001b[0m\u001b[0;34m,\u001b[0m \u001b[0mgradOutput\u001b[0m\u001b[0;34m)\u001b[0m\u001b[0;34m\u001b[0m\u001b[0m\n\u001b[1;32m     37\u001b[0m         \u001b[0;32mreturn\u001b[0m \u001b[0mself\u001b[0m\u001b[0;34m.\u001b[0m\u001b[0mgradInput\u001b[0m\u001b[0;34m\u001b[0m\u001b[0m\n",
      "\u001b[0;32m<ipython-input-49-656417aeb1ae>\u001b[0m in \u001b[0;36mupdateGradInput\u001b[0;34m(self, inpt, gradOutput)\u001b[0m\n\u001b[1;32m     22\u001b[0m         \u001b[0;32mfor\u001b[0m \u001b[0mindex\u001b[0m\u001b[0;34m,\u001b[0m \u001b[0mout\u001b[0m \u001b[0;32min\u001b[0m \u001b[0menumerate\u001b[0m\u001b[0;34m(\u001b[0m\u001b[0mself\u001b[0m\u001b[0;34m.\u001b[0m\u001b[0moutput\u001b[0m\u001b[0;34m)\u001b[0m\u001b[0;34m:\u001b[0m\u001b[0;34m\u001b[0m\u001b[0m\n\u001b[1;32m     23\u001b[0m             \u001b[0mou\u001b[0m \u001b[0;34m=\u001b[0m \u001b[0mout\u001b[0m\u001b[0;34m.\u001b[0m\u001b[0mreshape\u001b[0m\u001b[0;34m(\u001b[0m\u001b[0;34m-\u001b[0m\u001b[0;36m1\u001b[0m\u001b[0;34m,\u001b[0m\u001b[0;36m1\u001b[0m\u001b[0;34m)\u001b[0m\u001b[0;34m\u001b[0m\u001b[0m\n\u001b[0;32m---> 24\u001b[0;31m             \u001b[0mou\u001b[0m \u001b[0;34m=\u001b[0m \u001b[0mnp\u001b[0m\u001b[0;34m.\u001b[0m\u001b[0mdiagflat\u001b[0m\u001b[0;34m(\u001b[0m\u001b[0mou\u001b[0m\u001b[0;34m)\u001b[0m \u001b[0;34m-\u001b[0m \u001b[0mnp\u001b[0m\u001b[0;34m.\u001b[0m\u001b[0mdot\u001b[0m\u001b[0;34m(\u001b[0m\u001b[0mou\u001b[0m\u001b[0;34m,\u001b[0m \u001b[0mou\u001b[0m\u001b[0;34m.\u001b[0m\u001b[0mT\u001b[0m\u001b[0;34m)\u001b[0m\u001b[0;34m\u001b[0m\u001b[0m\n\u001b[0m\u001b[1;32m     25\u001b[0m             \u001b[0mgrad\u001b[0m\u001b[0;34m.\u001b[0m\u001b[0mappend\u001b[0m\u001b[0;34m(\u001b[0m\u001b[0mnp\u001b[0m\u001b[0;34m.\u001b[0m\u001b[0mdot\u001b[0m\u001b[0;34m(\u001b[0m\u001b[0mou\u001b[0m\u001b[0;34m,\u001b[0m\u001b[0mgradOutput\u001b[0m\u001b[0;34m[\u001b[0m\u001b[0mindex\u001b[0m\u001b[0;34m]\u001b[0m\u001b[0;34m)\u001b[0m\u001b[0;34m)\u001b[0m\u001b[0;34m\u001b[0m\u001b[0m\n\u001b[1;32m     26\u001b[0m \u001b[0;34m\u001b[0m\u001b[0m\n",
      "\u001b[0;32m/usr/local/lib/python3.6/dist-packages/numpy/lib/twodim_base.py\u001b[0m in \u001b[0;36mdiagflat\u001b[0;34m(v, k)\u001b[0m\n\u001b[1;32m    314\u001b[0m     \u001b[0mres\u001b[0m \u001b[0;34m=\u001b[0m \u001b[0mzeros\u001b[0m\u001b[0;34m(\u001b[0m\u001b[0;34m(\u001b[0m\u001b[0mn\u001b[0m\u001b[0;34m,\u001b[0m \u001b[0mn\u001b[0m\u001b[0;34m)\u001b[0m\u001b[0;34m,\u001b[0m \u001b[0mv\u001b[0m\u001b[0;34m.\u001b[0m\u001b[0mdtype\u001b[0m\u001b[0;34m)\u001b[0m\u001b[0;34m\u001b[0m\u001b[0m\n\u001b[1;32m    315\u001b[0m     \u001b[0;32mif\u001b[0m \u001b[0;34m(\u001b[0m\u001b[0mk\u001b[0m \u001b[0;34m>=\u001b[0m \u001b[0;36m0\u001b[0m\u001b[0;34m)\u001b[0m\u001b[0;34m:\u001b[0m\u001b[0;34m\u001b[0m\u001b[0m\n\u001b[0;32m--> 316\u001b[0;31m         \u001b[0mi\u001b[0m \u001b[0;34m=\u001b[0m \u001b[0marange\u001b[0m\u001b[0;34m(\u001b[0m\u001b[0;36m0\u001b[0m\u001b[0;34m,\u001b[0m \u001b[0mn\u001b[0m\u001b[0;34m-\u001b[0m\u001b[0mk\u001b[0m\u001b[0;34m)\u001b[0m\u001b[0;34m\u001b[0m\u001b[0m\n\u001b[0m\u001b[1;32m    317\u001b[0m         \u001b[0mfi\u001b[0m \u001b[0;34m=\u001b[0m \u001b[0mi\u001b[0m\u001b[0;34m+\u001b[0m\u001b[0mk\u001b[0m\u001b[0;34m+\u001b[0m\u001b[0mi\u001b[0m\u001b[0;34m*\u001b[0m\u001b[0mn\u001b[0m\u001b[0;34m\u001b[0m\u001b[0m\n\u001b[1;32m    318\u001b[0m     \u001b[0;32melse\u001b[0m\u001b[0;34m:\u001b[0m\u001b[0;34m\u001b[0m\u001b[0m\n",
      "\u001b[0;31mKeyboardInterrupt\u001b[0m: "
     ]
    }
   ],
   "source": [
    "loss_history = []\n",
    "loss_history_b = []\n",
    "for i in range(n_epoch):\n",
    "    for x_batch, y_batch in get_batches(X_train, y_train, batch_size):\n",
    "        net.zeroGradParameters()\n",
    "        # Forward\n",
    "        predictions = net.forward(x_batch)\n",
    "        loss = criterion.forward(predictions, y_batch)\n",
    "        \n",
    "        # Backward\n",
    "\n",
    "        dp = criterion.backward(predictions, y_batch)\n",
    "        net.backward(x_batch, dp)\n",
    "        \n",
    "        # Update weights\n",
    "        adam_optimizer(net.getParameters(), \n",
    "                     net.getGradParameters(), \n",
    "                     optimizer_config,\n",
    "                     optimizer_state_b)      \n",
    "        \n",
    "        loss_history.append(loss)\n",
    "        \n",
    "        # With batch norm.\n",
    "        net_b.zeroGradParameters()\n",
    "        predictions_b = net_b.forward(x_batch)\n",
    "        loss_b = criterion_b.forward(predictions_b, y_batch)\n",
    "        \n",
    "        # Backward\n",
    "\n",
    "        dp_b = criterion_b.backward(predictions_b, y_batch)\n",
    "        net_b.backward(x_batch, dp_b)\n",
    "        \n",
    "        # Update weights\n",
    "        adam_optimizer(net_b.getParameters(), \n",
    "                     net_b.getGradParameters(), \n",
    "                     optimizer_config,\n",
    "                     optimizer_state_b)      \n",
    "        \n",
    "        loss_history_b.append(loss_b)\n",
    "    # Visualize\n",
    "    display.clear_output(wait=True)\n",
    "    plt.figure(figsize=(8, 6))\n",
    "        \n",
    "    plt.title(\"Training loss(with batchnorm and not)\")\n",
    "    plt.xlabel(\"#iteration\")\n",
    "    plt.ylabel(\"loss\")\n",
    "    plt.plot(loss_history, 'b',label = 'Training without batchnorm')\n",
    "    plt.plot(loss_history_b, 'r',label = 'Training with batchnorm')\n",
    "    plt.legend()\n",
    "    plt.show()\n",
    "    \n",
    "    print('Current loss: %f' % loss)\n",
    "    print('Current loss with b: %f' % loss_b)"
   ]
  },
  {
   "cell_type": "markdown",
   "metadata": {},
   "source": [
    "The fastest one is Relu.The most beatiful plot was in Softplus). About BatchMeanSubtraction, it helps at the start of learning and loss was reduced faster."
   ]
  },
  {
   "cell_type": "markdown",
   "metadata": {},
   "source": [
    "Write your personal opinion on the activation functions, think about computation times too. Does `BatchMeanSubtraction` help?"
   ]
  },
  {
   "cell_type": "markdown",
   "metadata": {
    "collapsed": true
   },
   "source": []
  },
  {
   "cell_type": "markdown",
   "metadata": {},
   "source": [
    "**Finally**, use all your knowledge to build a super cool model on this dataset, do not forget to split dataset into train and validation. Use **dropout** to prevent overfitting, play with **learning rate decay**. You can use **data augmentation** such as rotations, translations to boost your score. Use your knowledge and imagination to train a model. "
   ]
  },
  {
   "cell_type": "code",
   "execution_count": 201,
   "metadata": {},
   "outputs": [
    {
     "name": "stdout",
     "output_type": "stream",
     "text": [
      "Linear 784 -> 32\n",
      "ReLU\n",
      "Linear 32 -> 10\n",
      "SoftMax\n",
      "\n"
     ]
    }
   ],
   "source": [
    "criterion = CrossEntropyCriterion()\n",
    "\n",
    "net = Sequential()\n",
    "net.add(Linear(784, 32))\n",
    "net.add(ReLU())\n",
    "net.add(Linear(32, 10))\n",
    "net.add(SoftMax())\n",
    "\n",
    "print(net)"
   ]
  },
  {
   "cell_type": "code",
   "execution_count": 202,
   "metadata": {},
   "outputs": [],
   "source": [
    "# Iptimizer params\n",
    "optimizer_config = {'alpha': 0.001, 'beta1': 0.9, 'beta2': 0.999, 'epsilon': 1e-8}\n",
    "state = {'t':1}\n",
    "optimizer_state_new = {}\n",
    "\n",
    "# Looping params\n",
    "n_epoch = 4\n",
    "batch_size = 200"
   ]
  },
  {
   "cell_type": "code",
   "execution_count": 203,
   "metadata": {},
   "outputs": [
    {
     "data": {
      "image/png": "[encoded data removed]",
      "text/plain": [
       "<matplotlib.figure.Figure at 0x7efc3c1fe080>"
      ]
     },
     "metadata": {},
     "output_type": "display_data"
    },
    {
     "name": "stdout",
     "output_type": "stream",
     "text": [
      "Current loss: 0.151391\n"
     ]
    }
   ],
   "source": [
    "loss_history = []\n",
    "valid_loss = []\n",
    "for i in range(n_epoch):\n",
    "    for x_batch, y_batch in get_batches(X_train, y_train, batch_size):\n",
    "        net.zeroGradParameters()\n",
    "        # Forward\n",
    "        predictions = net.forward(x_batch)\n",
    "        loss = criterion.forward(predictions, y_batch)\n",
    "        \n",
    "        # Backward\n",
    "\n",
    "        dp = criterion.backward(predictions, y_batch)\n",
    "        net.backward(x_batch, dp)\n",
    "        \n",
    "        # Update weights\n",
    "        adam_optimizer(net.getParameters(), \n",
    "                     net.getGradParameters(), \n",
    "                     optimizer_config,\n",
    "                       state\n",
    "                     )            \n",
    "        \n",
    "        loss_history.append(loss)\n",
    "        \n",
    "        pred = net.forward(X_valid)\n",
    "        loss_valid = criterion.forward(pred, y_valid)\n",
    "        \n",
    "        valid_loss.append(loss_valid)\n",
    "    # Visualize\n",
    "    display.clear_output(wait=True)\n",
    "    plt.figure(figsize=(8, 6))\n",
    "        \n",
    "    plt.title(\"Training vs validation loss\")\n",
    "    plt.xlabel(\"#iteration\")\n",
    "    plt.ylabel(\"loss\")\n",
    "    plt.plot(loss_history, 'b',label = 'Training')\n",
    "    plt.plot(valid_loss, 'r', label = 'Validation')\n",
    "    plt.legend()\n",
    "    plt.show()\n",
    "    \n",
    "    print('Current loss: %f' % loss)\n"
   ]
  },
  {
   "cell_type": "markdown",
   "metadata": {},
   "source": [
    "Print here your accuracy. It should be around 90%."
   ]
  },
  {
   "cell_type": "markdown",
   "metadata": {},
   "source": [
    "We can see that validation loss is growing after 4th epoch.So lets do only 4 epochs."
   ]
  },
  {
   "cell_type": "code",
   "execution_count": 204,
   "metadata": {},
   "outputs": [],
   "source": [
    "predict = net.forward(X_test)"
   ]
  },
  {
   "cell_type": "code",
   "execution_count": 205,
   "metadata": {},
   "outputs": [
    {
     "data": {
      "text/plain": [
       "0.8832857142857143"
      ]
     },
     "execution_count": 205,
     "metadata": {},
     "output_type": "execute_result"
    }
   ],
   "source": [
    "pr_logits = np.argmax(predict,axis=1)\n",
    "from sklearn.metrics import accuracy_score\n",
    "accuracy_score(y_test,pr_logits)"
   ]
  },
  {
   "cell_type": "markdown",
   "metadata": {},
   "source": [
    "# Autoencoder (optional) "
   ]
  },
  {
   "cell_type": "markdown",
   "metadata": {},
   "source": [
    "This part is **OPTIONAL**, you may not do it. It will not be scored, but it is easy and interesting."
   ]
  },
  {
   "cell_type": "markdown",
   "metadata": {},
   "source": [
    "Now we are going to build a cool model, named autoencoder. The aim is simple: **encode** the data to a lower dimentional representation. Why? Well, if we can **decode** this representation back to original data with \"small\" reconstuction loss then we can store only compressed representation saving memory. But the most important thing is -- we can reuse trained autoencoder for classification. \n",
    "![](img/autoencoder.png)\n",
    "\n",
    "Picture from this [site](http://multithreaded.stitchfix.com/blog/2015/09/17/deep-style/)."
   ]
  },
  {
   "cell_type": "markdown",
   "metadata": {},
   "source": [
    "Now implement an autoencoder:\n",
    "\n",
    "Build it such that dimetionality inside autoencoder changes like that: \n",
    "\n",
    "$$784 \\text{ (data)} -> 512 -> 256 -> 128 -> 30 -> 128 -> 256 -> 512 -> 784$$\n",
    "\n",
    "Use **MSECriterion** to score the reconstruction. Use **BatchMeanNormalization** between **Linear** and **ReLU**. You may not use nonlinearity in bottleneck layer.\n",
    "\n",
    "You may train it for 9 epochs with batch size = 256, initial lr = 0.1 droping by a factor of 2 every 3 epochs. The reconstruction loss should be about 6.0 and visual quality decent already.\n",
    "Do not spend time on changing architecture, they are more or less the same. "
   ]
  },
  {
   "cell_type": "code",
   "execution_count": 1,
   "metadata": {},
   "outputs": [],
   "source": [
    "# Your code goes here. ################################################"
   ]
  },
  {
   "cell_type": "markdown",
   "metadata": {},
   "source": [
    "Some time ago NNs were a lot poorer and people were struggling to learn deep models. To train a classification net people were training autoencoder first (to train autoencoder people were pretraining single layers with [RBM](https://en.wikipedia.org/wiki/Restricted_Boltzmann_machine)), then substituting the decoder part with classification layer (yeah, they were struggling with training autoencoders a lot, and complex techniques were used at that dark times). We are going to this now, fast and easy.  "
   ]
  },
  {
   "cell_type": "code",
   "execution_count": 2,
   "metadata": {},
   "outputs": [],
   "source": [
    "# Extract inner representation for train and validation, \n",
    "# you should get (n_samples, 30) matrices\n",
    "# Your code goes here. ################################################\n",
    "\n",
    "# Now build a logistic regression or small classification net\n",
    "\n",
    "# Learn the weights\n",
    "# Your code goes here. ################################################\n",
    "\n",
    "# Now chop off decoder part\n",
    "# (you may need to implement `remove` method for Sequential container) \n",
    "# Your code goes here. ################################################\n",
    "\n",
    "# And add learned layers ontop.\n",
    "\n",
    "# Now optimize whole model\n",
    "# Your code goes here. ################################################"
   ]
  },
  {
   "cell_type": "markdown",
   "metadata": {},
   "source": [
    "* What do you think, does it make sense to build real-world classifiers this way ? Did it work better for you than a straightforward one? Looks like it was not the same ~8 years ago, what has changed beside computational power? "
   ]
  },
  {
   "cell_type": "markdown",
   "metadata": {},
   "source": [
    "Run PCA with 30 components on the *train set*, plot original image, autoencoder and PCA reconstructions side by side for 10 samples from *validation set*.\n",
    "Probably you need to use the following snippet to make aoutpencoder examples look comparible."
   ]
  },
  {
   "cell_type": "code",
   "execution_count": 3,
   "metadata": {},
   "outputs": [],
   "source": [
    "# np.clip(prediction,0,1)\n",
    "#\n",
    "# Your code goes here. ################################################"
   ]
  },
  {
   "cell_type": "markdown",
   "metadata": {},
   "source": [
    "# Experiments (interesting) "
   ]
  },
  {
   "cell_type": "markdown",
   "metadata": {},
   "source": [
    "* Use ANN with one hidden layer for simple 1d regression problem (generate random points and fit your model on it).\n",
    "Compare **Tanh** and **ReLu** activations for hidden layer (note that you do not need any nonlinearity for output layer). Also tweak hidden layer size."
   ]
  },
  {
   "cell_type": "code",
   "execution_count": null,
   "metadata": {},
   "outputs": [],
   "source": []
  },
  {
   "cell_type": "markdown",
   "metadata": {},
   "source": [
    "* Train a multilayer model on MNIST and reach ~95% accuracy on test set. Now randomly remove neurons from your network (i.e. set neuron parameters zero). Plot test set accuracy versus number of neurons removed. Do the same expeiment with 1) Dropout layer added, 2) BatchMeanSubtraction layer added."
   ]
  },
  {
   "cell_type": "code",
   "execution_count": null,
   "metadata": {},
   "outputs": [],
   "source": []
  },
  {
   "cell_type": "markdown",
   "metadata": {},
   "source": [
    "* Train a model on MNIST with multiclass criterion. Now backpropagate label throw network, i.e. find the input that would produce given output. Your label was one-hot-encoded (only one digit was on the picture). This time backpropagate label, which has 2 or more ones and see the input picture of the network."
   ]
  },
  {
   "cell_type": "code",
   "execution_count": 103,
   "metadata": {},
   "outputs": [],
   "source": [
    "a =  [4,5]"
   ]
  },
  {
   "cell_type": "code",
   "execution_count": 104,
   "metadata": {},
   "outputs": [],
   "source": [
    "c, b = a"
   ]
  },
  {
   "cell_type": "code",
   "execution_count": 105,
   "metadata": {},
   "outputs": [
    {
     "data": {
      "text/plain": [
       "4"
      ]
     },
     "execution_count": 105,
     "metadata": {},
     "output_type": "execute_result"
    }
   ],
   "source": [
    "c"
   ]
  },
  {
   "cell_type": "code",
   "execution_count": 269,
   "metadata": {},
   "outputs": [],
   "source": [
    "b = 7"
   ]
  },
  {
   "cell_type": "code",
   "execution_count": 173,
   "metadata": {},
   "outputs": [
    {
     "data": {
      "text/plain": [
       "1"
      ]
     },
     "execution_count": 173,
     "metadata": {},
     "output_type": "execute_result"
    }
   ],
   "source": [
    "c**0"
   ]
  },
  {
   "cell_type": "code",
   "execution_count": null,
   "metadata": {},
   "outputs": [],
   "source": []
  }
 ],
 "metadata": {
  "kernelspec": {
   "display_name": "Python 3",
   "language": "python",
   "name": "python3"
  },
  "language_info": {
   "codemirror_mode": {
    "name": "ipython",
    "version": 3
   },
   "file_extension": ".py",
   "mimetype": "text/x-python",
   "name": "python",
   "nbconvert_exporter": "python",
   "pygments_lexer": "ipython3",
   "version": "3.6.6"
  }
 },
 "nbformat": 4,
 "nbformat_minor": 1
}
